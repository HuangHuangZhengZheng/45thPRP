{
 "cells": [
  {
   "cell_type": "code",
   "execution_count": 55,
   "id": "initial_id",
   "metadata": {
    "ExecuteTime": {
     "end_time": "2024-08-18T06:38:30.849999Z",
     "start_time": "2024-08-18T06:38:20.673387Z"
    },
    "collapsed": true
   },
   "outputs": [],
   "source": [
    "import numpy as np\n",
    "import torch\n",
    "from torch import nn, optim\n",
    "from torch.nn import functional as F\n",
    "from torchvision import datasets, transforms\n",
    "\n",
    "import shap\n",
    "from torch.utils.data import Dataset, DataLoader\n",
    "from tqdm import tqdm\n",
    "import pandas as pd\n",
    "from torch.utils.data import Dataset, DataLoader\n",
    "import torch\n",
    "from torch import nn\n",
    "from EDAandPCA import get_pca_features_from_df"
   ]
  },
  {
   "cell_type": "code",
   "execution_count": 56,
   "id": "ac20f5f30906ab4f",
   "metadata": {
    "ExecuteTime": {
     "end_time": "2024-08-18T06:38:30.868399Z",
     "start_time": "2024-08-18T06:38:30.858211Z"
    }
   },
   "outputs": [],
   "source": [
    "def calc_acc(outputs,\n",
    "             labels):  # loss or acc\n",
    "    return F.mse_loss(outputs, labels.reshape(-1, 1))\n",
    "\n",
    "\n",
    "def train(model: nn.Module,\n",
    "          optimizer,\n",
    "          num_epochs,\n",
    "          device,\n",
    "          train_loader,\n",
    "          val_loader=None):\n",
    "    # model setting\n",
    "    model.train()\n",
    "    model.to(device=device)\n",
    "\n",
    "    loss_list = []\n",
    "\n",
    "    test_acc = []\n",
    "    running_loss_list = []\n",
    "\n",
    "    best_acc = 0.\n",
    "    # train loop\n",
    "    for epoch_idx in range(num_epochs):\n",
    "        model.train()\n",
    "        running_acc = running_loss = total = 0\n",
    "        tqdm_train_loader = tqdm(train_loader)\n",
    "        for inputs, labels in tqdm_train_loader:\n",
    "            # prepare mini-batch data\n",
    "            inputs, labels = inputs.to(device), labels.to(device)\n",
    "\n",
    "            # forward path\n",
    "            outputs = model(inputs)\n",
    "            loss = F.mse_loss(outputs, labels.reshape(-1, 1))\n",
    "            # print(outputs)\n",
    "            # print(labels)\n",
    "\n",
    "            # backward path\n",
    "            optimizer.zero_grad()  # clear old gradients\n",
    "            loss.backward()  # calculate new gradients\n",
    "            optimizer.step()  # update weights\n",
    "\n",
    "            running_loss += loss.item()\n",
    "            running_acc += calc_acc(outputs, labels).item()\n",
    "            total += 1\n",
    "\n",
    "            loss_list.append(loss.item())\n",
    "            ###\n",
    "\n",
    "            tqdm_train_loader.set_postfix_str(\"Epoch: {e:d}, loss: {l:.4f}\".format(e=epoch_idx, l=loss.item()))\n",
    "\n",
    "            # exit()\n",
    "\n",
    "        running_loss /= total\n",
    "        running_acc /= total\n",
    "\n",
    "        testing_acc = test(model, device, val_loader).item() # main calls test function!\n",
    "\n",
    "        test_acc.append(testing_acc)\n",
    "        running_loss_list.append(running_loss)\n",
    "\n",
    "        # if testing_acc > best_acc:\n",
    "        #     torch.save(net.state_dict(), \"best.pth\")\n",
    "        print(\"Epoch {0:d}: TrainLoss {1:.6f}, \"\n",
    "              \"TrainAcc(if reg, then TrainLoss) {2:.4f}, \"\n",
    "              \"TestAcc(if reg, then TestLoss) {3:.4f}\".format(\n",
    "            epoch_idx + 1, running_loss, running_acc, testing_acc))\n",
    "\n",
    "    # draw a picture\n",
    "    # fig = plt.figure()\n",
    "    # plt.clf()\n",
    "    # plt.plot(range(1, epochs + 1), running_loss_list)\n",
    "    # plt.plot(range(1, epochs + 1), test_acc)\n",
    "    # plt.xlabel(\"Epochs\")\n",
    "    # plt.ylabel(\"MSE\")\n",
    "    # plt.legend([\"Train\", \"Valid\"])\n",
    "    # plt.pause(10)\n",
    "    # plt.show()\n",
    "\n",
    "    return loss_list, test_acc\n",
    "\n",
    "\n",
    "def test(model: nn.Module,\n",
    "         device,\n",
    "         test_loader):\n",
    "    model.eval()\n",
    "    model.to(device=device)\n",
    "    testing_acc = total = 0\n",
    "    with torch.no_grad():\n",
    "        for inputs, labels in tqdm(test_loader):  # 创建进度条实例，保留dataloader的全部属性和方法！\n",
    "            inputs, labels = inputs.to(device), labels.to(device)\n",
    "            outputs = model(inputs)\n",
    "            testing_acc += calc_acc(outputs, labels)\n",
    "            total += 1\n",
    "    return testing_acc / total\n",
    "\n",
    "\n",
    "class FCNN(nn.Module):  # inherit father torch.nn.Module\n",
    "    def __init__(self):\n",
    "        super(FCNN, self).__init__()\n",
    "        self.fcnn_layer = nn.Sequential(\n",
    "            # nn.Linear(13, 32), # 13 features, 32 neurons --> without pca\n",
    "            nn.Linear(4, 32),\n",
    "            nn.ReLU(),\n",
    "            nn.Linear(32, 64),\n",
    "            nn.ReLU(),\n",
    "            nn.Linear(64, 1),\n",
    "        )\n",
    "\n",
    "    def forward(self, x):\n",
    "        x = self.fcnn_layer(x)\n",
    "        return x\n",
    "\n",
    "\n",
    "class MyDataset(Dataset):\n",
    "\n",
    "    def __init__(self):\n",
    "        data = pd.read_csv('./data/data.csv')\n",
    "        data_filled = data.fillna(0)\n",
    "        # data_filled = (data - np.mean(data, axis=0)) / np.std(data, axis=0)\n",
    "        csv_tensor = torch.tensor(data_filled.values, dtype=torch.float32)\n",
    "        inputs, outputs = data_filled.iloc[:, 0:13], data_filled.iloc[:, 13]\n",
    "\n",
    "        inputs = get_pca_features_from_df(inputs) # shape == (, 4)\n",
    "        inputs = pd.DataFrame(inputs)\n",
    "        \n",
    "        X = torch.tensor(inputs.values, dtype=torch.float32)\n",
    "        y = torch.tensor(outputs.values, dtype=torch.float32)\n",
    "\n",
    "        y = F.normalize(y, dim=0)\n",
    "        csv_tensor = F.normalize(csv_tensor, dim=0)\n",
    "        X = F.normalize(X, dim=0)\n",
    "\n",
    "        self._x = X\n",
    "        self._y = y\n",
    "        self._len = len(csv_tensor)\n",
    "\n",
    "    def __getitem__(self, index):\n",
    "        return self._x[index], self._y[index]\n",
    "\n",
    "    def __len__(self):\n",
    "        return self._len"
   ]
  },
  {
   "cell_type": "code",
   "execution_count": 57,
   "id": "d8204bdc940ac6e4",
   "metadata": {
    "ExecuteTime": {
     "end_time": "2024-08-18T06:38:30.877879Z",
     "start_time": "2024-08-18T06:38:30.874Z"
    }
   },
   "outputs": [],
   "source": [
    "batch_size = 10\n",
    "epochs = 5\n",
    "learning_rate = 1e-4\n",
    "weight_decay = 1e-5\n",
    "device = torch.device(\"cpu\")"
   ]
  },
  {
   "cell_type": "code",
   "execution_count": 58,
   "id": "99faf3a4663610c9",
   "metadata": {
    "ExecuteTime": {
     "end_time": "2024-08-18T06:38:31.417407Z",
     "start_time": "2024-08-18T06:38:30.918652Z"
    }
   },
   "outputs": [
    {
     "name": "stderr",
     "output_type": "stream",
     "text": [
      "100%|██████████| 34/34 [00:00<00:00, 270.08it/s, Epoch: 0, loss: 0.0007]\n",
      "100%|██████████| 3/3 [00:00<00:00, 1498.14it/s]\n"
     ]
    },
    {
     "name": "stdout",
     "output_type": "stream",
     "text": [
      "Epoch 1: TrainLoss 0.002066, TrainAcc(if reg, then TrainLoss) 0.0021, TestAcc(if reg, then TestLoss) 0.0005\n"
     ]
    },
    {
     "name": "stderr",
     "output_type": "stream",
     "text": [
      "100%|██████████| 34/34 [00:00<00:00, 393.49it/s, Epoch: 1, loss: 0.0004]\n",
      "100%|██████████| 3/3 [00:00<00:00, 1242.02it/s]\n"
     ]
    },
    {
     "name": "stdout",
     "output_type": "stream",
     "text": [
      "Epoch 2: TrainLoss 0.000362, TrainAcc(if reg, then TrainLoss) 0.0004, TestAcc(if reg, then TestLoss) 0.0002\n"
     ]
    },
    {
     "name": "stderr",
     "output_type": "stream",
     "text": [
      "100%|██████████| 34/34 [00:00<00:00, 436.37it/s, Epoch: 2, loss: 0.0004]\n",
      "100%|██████████| 3/3 [00:00<00:00, 1059.97it/s]\n"
     ]
    },
    {
     "name": "stdout",
     "output_type": "stream",
     "text": [
      "Epoch 3: TrainLoss 0.000237, TrainAcc(if reg, then TrainLoss) 0.0002, TestAcc(if reg, then TestLoss) 0.0002\n"
     ]
    },
    {
     "name": "stderr",
     "output_type": "stream",
     "text": [
      "100%|██████████| 34/34 [00:00<00:00, 396.23it/s, Epoch: 3, loss: 0.0001]\n",
      "100%|██████████| 3/3 [00:00<?, ?it/s]\n"
     ]
    },
    {
     "name": "stdout",
     "output_type": "stream",
     "text": [
      "Epoch 4: TrainLoss 0.000222, TrainAcc(if reg, then TrainLoss) 0.0002, TestAcc(if reg, then TestLoss) 0.0002\n"
     ]
    },
    {
     "name": "stderr",
     "output_type": "stream",
     "text": [
      "100%|██████████| 34/34 [00:00<00:00, 491.60it/s, Epoch: 4, loss: 0.0002]\n",
      "100%|██████████| 3/3 [00:00<00:00, 1849.07it/s]"
     ]
    },
    {
     "name": "stdout",
     "output_type": "stream",
     "text": [
      "Epoch 5: TrainLoss 0.000207, TrainAcc(if reg, then TrainLoss) 0.0002, TestAcc(if reg, then TestLoss) 0.0002\n"
     ]
    },
    {
     "name": "stderr",
     "output_type": "stream",
     "text": [
      "\n"
     ]
    },
    {
     "data": {
      "text/plain": [
       "([0.0029061618261039257,\n",
       "  0.0035128886811435223,\n",
       "  0.00530155748128891,\n",
       "  0.004063599742949009,\n",
       "  0.00340058421716094,\n",
       "  0.0030665621161460876,\n",
       "  0.0027677142061293125,\n",
       "  0.0031149103306233883,\n",
       "  0.002478985348716378,\n",
       "  0.002186434343457222,\n",
       "  0.0030849578324705362,\n",
       "  0.002425047103315592,\n",
       "  0.002131344750523567,\n",
       "  0.002190571976825595,\n",
       "  0.001852800720371306,\n",
       "  0.002767466939985752,\n",
       "  0.0017085003200918436,\n",
       "  0.0016305309254676104,\n",
       "  0.0017512375488877296,\n",
       "  0.001430611009709537,\n",
       "  0.0018801508704200387,\n",
       "  0.0019062634091824293,\n",
       "  0.002174105029553175,\n",
       "  0.0015035818796604872,\n",
       "  0.0016130454605445266,\n",
       "  0.001157992403022945,\n",
       "  0.0015281729865819216,\n",
       "  0.0010550625156611204,\n",
       "  0.0005493101198226213,\n",
       "  0.0005208145012147725,\n",
       "  0.0008433936163783073,\n",
       "  0.0005840027006343007,\n",
       "  0.00041816866723820567,\n",
       "  0.0007370248204097152,\n",
       "  0.0006079280283302069,\n",
       "  0.0003748689778149128,\n",
       "  0.0010010639671236277,\n",
       "  0.0006601160275749862,\n",
       "  0.00025596219347789884,\n",
       "  0.0002783255185931921,\n",
       "  0.001071871374733746,\n",
       "  0.000651934533379972,\n",
       "  0.00019756195251829922,\n",
       "  0.0002947304747067392,\n",
       "  0.0003737733932211995,\n",
       "  0.0004912655567750335,\n",
       "  0.0003978802415076643,\n",
       "  0.0003016938571818173,\n",
       "  0.000471714127343148,\n",
       "  0.00030694130691699684,\n",
       "  0.0004673993098549545,\n",
       "  0.0002919508551713079,\n",
       "  0.0004260986461304128,\n",
       "  0.00015192388673312962,\n",
       "  0.00017833740275818855,\n",
       "  9.650150605011731e-05,\n",
       "  0.00014650066441390663,\n",
       "  0.00038203614531084895,\n",
       "  0.0004696649848483503,\n",
       "  0.00017721581389196217,\n",
       "  0.0001490755967097357,\n",
       "  0.00031622956157661974,\n",
       "  0.0001831937988754362,\n",
       "  0.00023611719370819628,\n",
       "  0.00018128396186511964,\n",
       "  0.00016633882478345186,\n",
       "  0.000155893707415089,\n",
       "  0.0003810254274867475,\n",
       "  0.00021998953889124095,\n",
       "  0.00015937935677357018,\n",
       "  0.00013361545279622078,\n",
       "  0.00014820754586253315,\n",
       "  0.00016943473019637167,\n",
       "  0.00029120317776687443,\n",
       "  0.00012414234515745193,\n",
       "  0.00018687007832340896,\n",
       "  0.0004081331135239452,\n",
       "  0.0003890265361405909,\n",
       "  0.0003609854611568153,\n",
       "  0.00048519825213588774,\n",
       "  0.0003195555182173848,\n",
       "  0.00015766816795803607,\n",
       "  0.0001771868992364034,\n",
       "  0.00019209668971598148,\n",
       "  0.00039804220432415605,\n",
       "  0.00024940306320786476,\n",
       "  0.00019796742708422244,\n",
       "  0.0001991422614082694,\n",
       "  0.000283938308712095,\n",
       "  0.00015651049034204334,\n",
       "  0.0003147895622532815,\n",
       "  0.00020751259580720216,\n",
       "  0.0001602119009476155,\n",
       "  0.00033217898453585804,\n",
       "  0.0002535296662244946,\n",
       "  0.00028683795244432986,\n",
       "  0.00012162921484559774,\n",
       "  0.00018662810907699168,\n",
       "  0.00014223824837245047,\n",
       "  0.00015071994857862592,\n",
       "  0.00013377043069340289,\n",
       "  0.0003542083431966603,\n",
       "  0.00018830613407772034,\n",
       "  0.00013436903827823699,\n",
       "  0.0002966972824651748,\n",
       "  0.00013858242891728878,\n",
       "  0.00020062655676156282,\n",
       "  0.000453623419161886,\n",
       "  0.00016028944810386747,\n",
       "  0.00015459783026017249,\n",
       "  0.0002727806568145752,\n",
       "  0.00013116878108121455,\n",
       "  0.0005237658624537289,\n",
       "  0.00013170835154596716,\n",
       "  0.00015399607946164906,\n",
       "  0.0001220990379806608,\n",
       "  0.00010391778778284788,\n",
       "  0.00012240272189956158,\n",
       "  0.0001660231064306572,\n",
       "  0.0001399742905050516,\n",
       "  0.00014649296645075083,\n",
       "  0.00013231017510406673,\n",
       "  0.0003445227339398116,\n",
       "  0.0004906108370050788,\n",
       "  0.00028753792867064476,\n",
       "  0.00012372052879072726,\n",
       "  0.0003597555332817137,\n",
       "  0.00018470529175829142,\n",
       "  0.00036420710966922343,\n",
       "  0.00015187815006356686,\n",
       "  0.00017274223500862718,\n",
       "  0.0004234258085489273,\n",
       "  0.0001351954269921407,\n",
       "  0.00015044906467664987,\n",
       "  0.0003732301702257246,\n",
       "  9.664096432970837e-05,\n",
       "  0.00015612048446200788,\n",
       "  0.00010220288822893053,\n",
       "  0.00017657547141425312,\n",
       "  0.00015266635455191135,\n",
       "  0.00012909276119899005,\n",
       "  0.00013280147686600685,\n",
       "  0.00012422286090441048,\n",
       "  0.0001478009216953069,\n",
       "  0.0002718448522500694,\n",
       "  0.00023691370734013617,\n",
       "  0.0003096775326412171,\n",
       "  0.00022373930551111698,\n",
       "  0.00015132661792449653,\n",
       "  0.00017189374193549156,\n",
       "  0.00027588283410295844,\n",
       "  0.00011814957542810589,\n",
       "  0.0003146434319205582,\n",
       "  0.0004125818086322397,\n",
       "  0.0001613546919543296,\n",
       "  0.00016246949962805957,\n",
       "  0.00014934520004317164,\n",
       "  0.0003240468504372984,\n",
       "  0.0006332701304927468,\n",
       "  0.0001552384055685252,\n",
       "  0.00012207406689412892,\n",
       "  0.00016845227219164371,\n",
       "  0.0001410789118381217,\n",
       "  0.00014900442329235375,\n",
       "  0.00011401796655263752,\n",
       "  0.00011628711217781529,\n",
       "  0.00014838131028227508,\n",
       "  0.0003525152860675007,\n",
       "  0.0002786433033179492,\n",
       "  0.00024191915872506797],\n",
       " [0.0005228773225098848,\n",
       "  0.00020207658235449344,\n",
       "  0.00018898169219028205,\n",
       "  0.00017179544374812394,\n",
       "  0.00016017975576687604])"
      ]
     },
     "execution_count": 58,
     "metadata": {},
     "output_type": "execute_result"
    }
   ],
   "source": [
    "dataset = MyDataset()\n",
    "train_set, val_set = torch.utils.data.dataset.random_split(dataset, [340, 25])  # 340 + 25 = 365\n",
    "train_loader = DataLoader(train_set, shuffle=True, batch_size=batch_size)\n",
    "val_loader = DataLoader(val_set, shuffle=False, batch_size=batch_size)\n",
    "\n",
    "model = FCNN().to(device)\n",
    "optimizer = torch.optim.Adam(model.parameters(), lr=learning_rate, weight_decay=weight_decay)\n",
    "\n",
    "train(model,\n",
    "      optimizer,\n",
    "      epochs,\n",
    "      device,\n",
    "      train_loader,\n",
    "      val_loader)"
   ]
  },
  {
   "cell_type": "code",
   "execution_count": 59,
   "id": "c34812d31d18d315",
   "metadata": {
    "ExecuteTime": {
     "end_time": "2024-08-18T06:38:31.507116Z",
     "start_time": "2024-08-18T06:38:31.488040Z"
    }
   },
   "outputs": [
    {
     "data": {
      "text/plain": [
       "tensor([0.0447], grad_fn=<ViewBackward0>)"
      ]
     },
     "execution_count": 59,
     "metadata": {},
     "output_type": "execute_result"
    }
   ],
   "source": [
    "X = dataset._x\n",
    "y = dataset._y\n",
    "# X.shape[0]\n",
    "val = model(X[90])\n",
    "val"
   ]
  },
  {
   "cell_type": "code",
   "execution_count": 60,
   "id": "f5f790172bb78735",
   "metadata": {
    "ExecuteTime": {
     "end_time": "2024-08-18T06:38:42.694117Z",
     "start_time": "2024-08-18T06:38:31.551902Z"
    }
   },
   "outputs": [],
   "source": [
    "background = shap.utils.sample(X, 100)\n",
    "e0 = shap.DeepExplainer(model.eval(), background)\n",
    "shap_values0 = e0.shap_values(X)"
   ]
  },
  {
   "cell_type": "code",
   "execution_count": 61,
   "id": "f6077df4c3a7c55d",
   "metadata": {
    "ExecuteTime": {
     "end_time": "2024-08-18T06:38:42.710929Z",
     "start_time": "2024-08-18T06:38:42.707292Z"
    }
   },
   "outputs": [
    {
     "data": {
      "text/plain": [
       "numpy.ndarray"
      ]
     },
     "execution_count": 61,
     "metadata": {},
     "output_type": "execute_result"
    }
   ],
   "source": [
    "type(shap_values0)"
   ]
  },
  {
   "cell_type": "code",
   "execution_count": 62,
   "id": "a8b1df7b4ab7f88",
   "metadata": {
    "ExecuteTime": {
     "end_time": "2024-08-18T06:38:42.731528Z",
     "start_time": "2024-08-18T06:38:42.727150Z"
    }
   },
   "outputs": [
    {
     "data": {
      "text/plain": [
       "(4, 1)"
      ]
     },
     "execution_count": 62,
     "metadata": {},
     "output_type": "execute_result"
    }
   ],
   "source": [
    "shap_values0[0].shape"
   ]
  },
  {
   "cell_type": "code",
   "execution_count": 63,
   "id": "f4c642adc19d3a6f",
   "metadata": {
    "ExecuteTime": {
     "end_time": "2024-08-18T06:38:42.767967Z",
     "start_time": "2024-08-18T06:38:42.762947Z"
    }
   },
   "outputs": [
    {
     "name": "stdout",
     "output_type": "stream",
     "text": [
      "[-0.00164554]\n"
     ]
    }
   ],
   "source": [
    "print(shap_values0[0][0])"
   ]
  },
  {
   "cell_type": "code",
   "execution_count": 64,
   "id": "de6318f4fda1e60",
   "metadata": {
    "ExecuteTime": {
     "end_time": "2024-08-18T06:38:42.809577Z",
     "start_time": "2024-08-18T06:38:42.803867Z"
    }
   },
   "outputs": [
    {
     "name": "stdout",
     "output_type": "stream",
     "text": [
      "[-0.00164554]\n"
     ]
    }
   ],
   "source": [
    "print(shap_values0[1][0])"
   ]
  },
  {
   "cell_type": "code",
   "execution_count": 65,
   "id": "822f6041aee3312d",
   "metadata": {
    "ExecuteTime": {
     "end_time": "2024-08-18T06:38:42.854231Z",
     "start_time": "2024-08-18T06:38:42.848205Z"
    }
   },
   "outputs": [
    {
     "name": "stdout",
     "output_type": "stream",
     "text": [
      "[[-0.00247702]\n",
      " [ 0.0008605 ]\n",
      " [-0.00338825]\n",
      " [-0.00018094]]\n"
     ]
    }
   ],
   "source": [
    "print(shap_values0[90])"
   ]
  },
  {
   "cell_type": "code",
   "execution_count": 66,
   "id": "4f41f55bb0dad645",
   "metadata": {
    "ExecuteTime": {
     "end_time": "2024-08-18T06:39:26.925728Z",
     "start_time": "2024-08-18T06:39:26.857585Z"
    }
   },
   "outputs": [
    {
     "data": {
      "image/png": "[encoded data removed]",
      "text/plain": [
       "<Figure size 800x190 with 1 Axes>"
      ]
     },
     "metadata": {},
     "output_type": "display_data"
    }
   ],
   "source": [
    "shap.summary_plot(shap_values0[0])\n"
   ]
  },
  {
   "cell_type": "code",
   "execution_count": null,
   "id": "2913489e",
   "metadata": {},
   "outputs": [],
   "source": []
  }
 ],
 "metadata": {
  "kernelspec": {
   "display_name": "Python 3",
   "language": "python",
   "name": "python3"
  },
  "language_info": {
   "codemirror_mode": {
    "name": "ipython",
    "version": 3
   },
   "file_extension": ".py",
   "mimetype": "text/x-python",
   "name": "python",
   "nbconvert_exporter": "python",
   "pygments_lexer": "ipython3",
   "version": "3.12.4"
  }
 },
 "nbformat": 4,
 "nbformat_minor": 5
}
