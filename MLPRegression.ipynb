{
 "cells": [
  {
   "cell_type": "code",
   "id": "initial_id",
   "metadata": {
    "collapsed": true,
    "ExecuteTime": {
     "end_time": "2024-08-18T06:38:30.849999Z",
     "start_time": "2024-08-18T06:38:20.673387Z"
    }
   },
   "source": [
    "import numpy as np\n",
    "import torch\n",
    "from torch import nn, optim\n",
    "from torch.nn import functional as F\n",
    "from torchvision import datasets, transforms\n",
    "\n",
    "import shap\n",
    "from torch.utils.data import Dataset, DataLoader\n",
    "from tqdm import tqdm\n",
    "import pandas as pd\n",
    "from torch.utils.data import Dataset, DataLoader\n",
    "import torch\n",
    "from torch import nn"
   ],
   "outputs": [],
   "execution_count": 2
  },
  {
   "metadata": {
    "ExecuteTime": {
     "end_time": "2024-08-18T06:38:30.868399Z",
     "start_time": "2024-08-18T06:38:30.858211Z"
    }
   },
   "cell_type": "code",
   "source": [
    "def calc_acc(outputs,\n",
    "             labels):  # loss or acc\n",
    "    return F.mse_loss(outputs, labels.reshape(-1, 1))\n",
    "\n",
    "\n",
    "def train(model: nn.Module,\n",
    "          optimizer,\n",
    "          num_epochs,\n",
    "          device,\n",
    "          train_loader,\n",
    "          val_loader=None):\n",
    "    # model setting\n",
    "    model.train()\n",
    "    model.to(device=device)\n",
    "\n",
    "    loss_list = []\n",
    "\n",
    "    test_acc = []\n",
    "    running_loss_list = []\n",
    "\n",
    "    best_acc = 0.\n",
    "    # train loop\n",
    "    for epoch_idx in range(num_epochs):\n",
    "        model.train()\n",
    "        running_acc = running_loss = total = 0\n",
    "        tqdm_train_loader = tqdm(train_loader)\n",
    "        for inputs, labels in tqdm_train_loader:\n",
    "            # prepare mini-batch data\n",
    "            inputs, labels = inputs.to(device), labels.to(device)\n",
    "\n",
    "            # forward path\n",
    "            outputs = model(inputs)\n",
    "            loss = F.mse_loss(outputs, labels.reshape(-1, 1))\n",
    "            # print(outputs)\n",
    "            # print(labels)\n",
    "\n",
    "            # backward path\n",
    "            optimizer.zero_grad()  # clear old gradients\n",
    "            loss.backward()  # calculate new gradients\n",
    "            optimizer.step()  # update weights\n",
    "\n",
    "            running_loss += loss.item()\n",
    "            running_acc += calc_acc(outputs, labels).item()\n",
    "            total += 1\n",
    "\n",
    "            loss_list.append(loss.item())\n",
    "            ###\n",
    "\n",
    "            tqdm_train_loader.set_postfix_str(\"Epoch: {e:d}, loss: {l:.4f}\".format(e=epoch_idx, l=loss.item()))\n",
    "\n",
    "            # exit()\n",
    "\n",
    "        running_loss /= total\n",
    "        running_acc /= total\n",
    "\n",
    "        testing_acc = test(model, device, val_loader).item() # main calls test function!\n",
    "\n",
    "        test_acc.append(testing_acc)\n",
    "        running_loss_list.append(running_loss)\n",
    "\n",
    "        # if testing_acc > best_acc:\n",
    "        #     torch.save(net.state_dict(), \"best.pth\")\n",
    "        print(\"Epoch {0:d}: TrainLoss {1:.6f}, \"\n",
    "              \"TrainAcc(if reg, then TrainLoss) {2:.4f}, \"\n",
    "              \"TestAcc(if reg, then TestLoss) {3:.4f}\".format(\n",
    "            epoch_idx + 1, running_loss, running_acc, testing_acc))\n",
    "\n",
    "    # draw a picture\n",
    "    # fig = plt.figure()\n",
    "    # plt.clf()\n",
    "    # plt.plot(range(1, epochs + 1), running_loss_list)\n",
    "    # plt.plot(range(1, epochs + 1), test_acc)\n",
    "    # plt.xlabel(\"Epochs\")\n",
    "    # plt.ylabel(\"MSE\")\n",
    "    # plt.legend([\"Train\", \"Valid\"])\n",
    "    # plt.pause(10)\n",
    "    # plt.show()\n",
    "\n",
    "    return loss_list, test_acc\n",
    "\n",
    "\n",
    "def test(model: nn.Module,\n",
    "         device,\n",
    "         test_loader):\n",
    "    model.eval()\n",
    "    model.to(device=device)\n",
    "    testing_acc = total = 0\n",
    "    with torch.no_grad():\n",
    "        for inputs, labels in tqdm(test_loader):  # 创建进度条实例，保留dataloader的全部属性和方法！\n",
    "            inputs, labels = inputs.to(device), labels.to(device)\n",
    "            outputs = model(inputs)\n",
    "            testing_acc += calc_acc(outputs, labels)\n",
    "            total += 1\n",
    "    return testing_acc / total\n",
    "\n",
    "\n",
    "class FCNN(nn.Module):  # inherit father torch.nn.Module\n",
    "    def __init__(self):\n",
    "        super(FCNN, self).__init__()\n",
    "        self.fcnn_layer = nn.Sequential(\n",
    "            nn.Linear(13, 32),\n",
    "            nn.ReLU(),\n",
    "            nn.Linear(32, 64),\n",
    "            nn.ReLU(),\n",
    "            nn.Linear(64, 1),\n",
    "        )\n",
    "\n",
    "    def forward(self, x):\n",
    "        x = self.fcnn_layer(x)\n",
    "        return x\n",
    "\n",
    "\n",
    "class MyDataset(Dataset):\n",
    "\n",
    "    def __init__(self):\n",
    "        data = pd.read_csv('./data/data.csv')\n",
    "        data_filled = data.fillna(0)\n",
    "        # data_filled = (data - np.mean(data, axis=0)) / np.std(data, axis=0)\n",
    "        csv_tensor = torch.tensor(data_filled.values, dtype=torch.float32)\n",
    "        inputs, outputs = data_filled.iloc[:, 0:13], data_filled.iloc[:, 13]\n",
    "        X, y = torch.tensor(inputs.values, dtype=torch.float32), torch.tensor(outputs.values, dtype=torch.float32)\n",
    "\n",
    "        y = F.normalize(y, dim=0)\n",
    "        csv_tensor = F.normalize(csv_tensor, dim=0)\n",
    "        X = F.normalize(X, dim=0)\n",
    "\n",
    "        self._x = X\n",
    "        self._y = y\n",
    "        self._len = len(csv_tensor)\n",
    "\n",
    "    def __getitem__(self, index):\n",
    "        return self._x[index], self._y[index]\n",
    "\n",
    "    def __len__(self):\n",
    "        return self._len"
   ],
   "id": "ac20f5f30906ab4f",
   "outputs": [],
   "execution_count": 3
  },
  {
   "metadata": {
    "ExecuteTime": {
     "end_time": "2024-08-18T06:38:30.877879Z",
     "start_time": "2024-08-18T06:38:30.874Z"
    }
   },
   "cell_type": "code",
   "source": [
    "batch_size = 10\n",
    "epochs = 5\n",
    "learning_rate = 1e-4\n",
    "weight_decay = 1e-5\n",
    "device = torch.device(\"cpu\")"
   ],
   "id": "d8204bdc940ac6e4",
   "outputs": [],
   "execution_count": 4
  },
  {
   "metadata": {
    "ExecuteTime": {
     "end_time": "2024-08-18T06:38:31.417407Z",
     "start_time": "2024-08-18T06:38:30.918652Z"
    }
   },
   "cell_type": "code",
   "source": [
    "dataset = MyDataset()\n",
    "train_set, val_set = torch.utils.data.dataset.random_split(dataset, [340, 25])  # 340 + 25 = 365\n",
    "train_loader = DataLoader(train_set, shuffle=True, batch_size=batch_size)\n",
    "val_loader = DataLoader(val_set, shuffle=False, batch_size=batch_size)\n",
    "\n",
    "model = FCNN().to(device)\n",
    "optimizer = torch.optim.Adam(model.parameters(), lr=learning_rate, weight_decay=weight_decay)\n",
    "\n",
    "train(model,\n",
    "      optimizer,\n",
    "      epochs,\n",
    "      device,\n",
    "      train_loader,\n",
    "      val_loader)"
   ],
   "id": "99faf3a4663610c9",
   "outputs": [
    {
     "name": "stderr",
     "output_type": "stream",
     "text": [
      "100%|██████████| 34/34 [00:00<00:00, 221.80it/s, Epoch: 0, loss: 0.0180]\n",
      "100%|██████████| 3/3 [00:00<?, ?it/s]\n"
     ]
    },
    {
     "name": "stdout",
     "output_type": "stream",
     "text": [
      "Epoch 1: TrainLoss 0.022575, TrainAcc(if reg, then TrainLoss) 0.0226, TestAcc(if reg, then TestLoss) 0.0180\n"
     ]
    },
    {
     "name": "stderr",
     "output_type": "stream",
     "text": [
      "100%|██████████| 34/34 [00:00<00:00, 493.98it/s, Epoch: 1, loss: 0.0128]\n",
      "100%|██████████| 3/3 [00:00<00:00, 749.12it/s]\n"
     ]
    },
    {
     "name": "stdout",
     "output_type": "stream",
     "text": [
      "Epoch 2: TrainLoss 0.014886, TrainAcc(if reg, then TrainLoss) 0.0149, TestAcc(if reg, then TestLoss) 0.0114\n"
     ]
    },
    {
     "name": "stderr",
     "output_type": "stream",
     "text": [
      "100%|██████████| 34/34 [00:00<00:00, 468.79it/s, Epoch: 2, loss: 0.0068]\n",
      "100%|██████████| 3/3 [00:00<00:00, 1497.43it/s]\n"
     ]
    },
    {
     "name": "stdout",
     "output_type": "stream",
     "text": [
      "Epoch 3: TrainLoss 0.009192, TrainAcc(if reg, then TrainLoss) 0.0092, TestAcc(if reg, then TestLoss) 0.0067\n"
     ]
    },
    {
     "name": "stderr",
     "output_type": "stream",
     "text": [
      "100%|██████████| 34/34 [00:00<00:00, 550.56it/s, Epoch: 3, loss: 0.0036]\n",
      "100%|██████████| 3/3 [00:00<00:00, 750.55it/s]\n"
     ]
    },
    {
     "name": "stdout",
     "output_type": "stream",
     "text": [
      "Epoch 4: TrainLoss 0.005291, TrainAcc(if reg, then TrainLoss) 0.0053, TestAcc(if reg, then TestLoss) 0.0037\n"
     ]
    },
    {
     "name": "stderr",
     "output_type": "stream",
     "text": [
      "100%|██████████| 34/34 [00:00<00:00, 466.85it/s, Epoch: 4, loss: 0.0026]\n",
      "100%|██████████| 3/3 [00:00<?, ?it/s]"
     ]
    },
    {
     "name": "stdout",
     "output_type": "stream",
     "text": [
      "Epoch 5: TrainLoss 0.002864, TrainAcc(if reg, then TrainLoss) 0.0029, TestAcc(if reg, then TestLoss) 0.0019\n"
     ]
    },
    {
     "name": "stderr",
     "output_type": "stream",
     "text": [
      "\n"
     ]
    },
    {
     "data": {
      "text/plain": [
       "([0.028045877814292908,\n",
       "  0.02522340789437294,\n",
       "  0.02533264085650444,\n",
       "  0.023895565420389175,\n",
       "  0.026486575603485107,\n",
       "  0.025227323174476624,\n",
       "  0.02484198659658432,\n",
       "  0.026327157393097878,\n",
       "  0.025063257664442062,\n",
       "  0.02148304134607315,\n",
       "  0.02465413324534893,\n",
       "  0.025397807359695435,\n",
       "  0.023339081555604935,\n",
       "  0.023171856999397278,\n",
       "  0.025197207927703857,\n",
       "  0.023158088326454163,\n",
       "  0.025946130976080894,\n",
       "  0.020652953535318375,\n",
       "  0.023187078535556793,\n",
       "  0.022375067695975304,\n",
       "  0.021270863711833954,\n",
       "  0.021472981199622154,\n",
       "  0.021909838542342186,\n",
       "  0.02141544595360756,\n",
       "  0.02092750370502472,\n",
       "  0.01838972419500351,\n",
       "  0.01954236999154091,\n",
       "  0.018620729446411133,\n",
       "  0.02089618518948555,\n",
       "  0.019777877256274223,\n",
       "  0.018727922812104225,\n",
       "  0.018749769777059555,\n",
       "  0.018836630508303642,\n",
       "  0.018003996461629868,\n",
       "  0.01427591871470213,\n",
       "  0.017128420993685722,\n",
       "  0.01714881882071495,\n",
       "  0.016152273863554,\n",
       "  0.018304739147424698,\n",
       "  0.016822664067149162,\n",
       "  0.01663549244403839,\n",
       "  0.017080461606383324,\n",
       "  0.016150975599884987,\n",
       "  0.01641761139035225,\n",
       "  0.017899323254823685,\n",
       "  0.016395991668105125,\n",
       "  0.01624990999698639,\n",
       "  0.01520721148699522,\n",
       "  0.016040772199630737,\n",
       "  0.013921837322413921,\n",
       "  0.01557739358395338,\n",
       "  0.012205340899527073,\n",
       "  0.014926319010555744,\n",
       "  0.015698876231908798,\n",
       "  0.01388258021324873,\n",
       "  0.013864557258784771,\n",
       "  0.012258227914571762,\n",
       "  0.015320872887969017,\n",
       "  0.012272417545318604,\n",
       "  0.012683588080108166,\n",
       "  0.013995061628520489,\n",
       "  0.012564122676849365,\n",
       "  0.015290486626327038,\n",
       "  0.011605305597186089,\n",
       "  0.01403159461915493,\n",
       "  0.012934560887515545,\n",
       "  0.012405539862811565,\n",
       "  0.01277825515717268,\n",
       "  0.012098802253603935,\n",
       "  0.01333586871623993,\n",
       "  0.009539663791656494,\n",
       "  0.010148892179131508,\n",
       "  0.012083451263606548,\n",
       "  0.011241883970797062,\n",
       "  0.011127164587378502,\n",
       "  0.010622630827128887,\n",
       "  0.010123930871486664,\n",
       "  0.010564709082245827,\n",
       "  0.009645292535424232,\n",
       "  0.011291828006505966,\n",
       "  0.010253401473164558,\n",
       "  0.010812249965965748,\n",
       "  0.010524226352572441,\n",
       "  0.007613237947225571,\n",
       "  0.00989159569144249,\n",
       "  0.010232050903141499,\n",
       "  0.00792785920202732,\n",
       "  0.007811296731233597,\n",
       "  0.007786846719682217,\n",
       "  0.006841275840997696,\n",
       "  0.008830377832055092,\n",
       "  0.007497220300137997,\n",
       "  0.008742121048271656,\n",
       "  0.007180622313171625,\n",
       "  0.007502334658056498,\n",
       "  0.008026957511901855,\n",
       "  0.00770215317606926,\n",
       "  0.008138241246342659,\n",
       "  0.007555549032986164,\n",
       "  0.005103120114654303,\n",
       "  0.00789125356823206,\n",
       "  0.00684463232755661,\n",
       "  0.006760638207197189,\n",
       "  0.00690613966435194,\n",
       "  0.0063348314724862576,\n",
       "  0.005673208739608526,\n",
       "  0.006219732109457254,\n",
       "  0.006403316743671894,\n",
       "  0.00552461389452219,\n",
       "  0.0058724358677864075,\n",
       "  0.006566361524164677,\n",
       "  0.0051548173651099205,\n",
       "  0.006534360349178314,\n",
       "  0.0072938138619065285,\n",
       "  0.0062158494256436825,\n",
       "  0.005649774335324764,\n",
       "  0.005991947837173939,\n",
       "  0.0053403303027153015,\n",
       "  0.005268888548016548,\n",
       "  0.005366947967559099,\n",
       "  0.005625696387141943,\n",
       "  0.0041039129719138145,\n",
       "  0.0053974115289747715,\n",
       "  0.004483629949390888,\n",
       "  0.00405497569590807,\n",
       "  0.00529478071257472,\n",
       "  0.0038109715096652508,\n",
       "  0.004055141471326351,\n",
       "  0.00410847133025527,\n",
       "  0.005057738162577152,\n",
       "  0.004967466462403536,\n",
       "  0.004264726769179106,\n",
       "  0.0036835812497884035,\n",
       "  0.004241309594362974,\n",
       "  0.004016668535768986,\n",
       "  0.0036372984759509563,\n",
       "  0.004098526202142239,\n",
       "  0.004048907198011875,\n",
       "  0.003774074139073491,\n",
       "  0.004719902761280537,\n",
       "  0.0033963308669626713,\n",
       "  0.0034256726503372192,\n",
       "  0.003298551309853792,\n",
       "  0.0029993446078151464,\n",
       "  0.002922247862443328,\n",
       "  0.0032584103755652905,\n",
       "  0.0024751226883381605,\n",
       "  0.0035069517325609922,\n",
       "  0.003041543997824192,\n",
       "  0.0026037844363600016,\n",
       "  0.003024439560249448,\n",
       "  0.002428018022328615,\n",
       "  0.003047954523935914,\n",
       "  0.0035454947501420975,\n",
       "  0.002692383946850896,\n",
       "  0.002004132606089115,\n",
       "  0.0019176782807335258,\n",
       "  0.0027333267498761415,\n",
       "  0.0023388047702610493,\n",
       "  0.0022876146249473095,\n",
       "  0.002701833378523588,\n",
       "  0.003164272289723158,\n",
       "  0.002791776554659009,\n",
       "  0.0016390315722674131,\n",
       "  0.002388658467680216,\n",
       "  0.002744772471487522,\n",
       "  0.0017505038995295763,\n",
       "  0.0023006529081612825,\n",
       "  0.0017331128474324942,\n",
       "  0.002564681926742196],\n",
       " [0.017971741035580635,\n",
       "  0.011448112316429615,\n",
       "  0.00669596204534173,\n",
       "  0.003675127634778619,\n",
       "  0.0018616983434185386])"
      ]
     },
     "execution_count": 5,
     "metadata": {},
     "output_type": "execute_result"
    }
   ],
   "execution_count": 5
  },
  {
   "metadata": {
    "ExecuteTime": {
     "end_time": "2024-08-18T06:38:31.507116Z",
     "start_time": "2024-08-18T06:38:31.488040Z"
    }
   },
   "cell_type": "code",
   "source": [
    "X = dataset._x\n",
    "y = dataset._y\n",
    "# X.shape[0]\n",
    "val = model(X[90])\n",
    "val"
   ],
   "id": "c34812d31d18d315",
   "outputs": [
    {
     "data": {
      "text/plain": [
       "tensor([0.0071], grad_fn=<ViewBackward0>)"
      ]
     },
     "execution_count": 6,
     "metadata": {},
     "output_type": "execute_result"
    }
   ],
   "execution_count": 6
  },
  {
   "metadata": {
    "ExecuteTime": {
     "end_time": "2024-08-18T06:38:42.694117Z",
     "start_time": "2024-08-18T06:38:31.551902Z"
    }
   },
   "cell_type": "code",
   "source": [
    "background = shap.utils.sample(X, 100)\n",
    "e0 = shap.DeepExplainer(model.eval(), background)\n",
    "shap_values0 = e0.shap_values(X)"
   ],
   "id": "f5f790172bb78735",
   "outputs": [
    {
     "name": "stdout",
     "output_type": "stream",
     "text": [
      "WARNING:tensorflow:From C:\\Users\\24349\\AppData\\Roaming\\Python\\Python312\\site-packages\\tf_keras\\src\\losses.py:2976: The name tf.losses.sparse_softmax_cross_entropy is deprecated. Please use tf.compat.v1.losses.sparse_softmax_cross_entropy instead.\n",
      "\n"
     ]
    }
   ],
   "execution_count": 7
  },
  {
   "metadata": {
    "ExecuteTime": {
     "end_time": "2024-08-18T06:38:42.710929Z",
     "start_time": "2024-08-18T06:38:42.707292Z"
    }
   },
   "cell_type": "code",
   "source": "type(shap_values0)",
   "id": "f6077df4c3a7c55d",
   "outputs": [
    {
     "data": {
      "text/plain": [
       "numpy.ndarray"
      ]
     },
     "execution_count": 8,
     "metadata": {},
     "output_type": "execute_result"
    }
   ],
   "execution_count": 8
  },
  {
   "metadata": {
    "ExecuteTime": {
     "end_time": "2024-08-18T06:38:42.731528Z",
     "start_time": "2024-08-18T06:38:42.727150Z"
    }
   },
   "cell_type": "code",
   "source": "shap_values0[0].shape",
   "id": "a8b1df7b4ab7f88",
   "outputs": [
    {
     "data": {
      "text/plain": [
       "(13, 1)"
      ]
     },
     "execution_count": 9,
     "metadata": {},
     "output_type": "execute_result"
    }
   ],
   "execution_count": 9
  },
  {
   "metadata": {
    "ExecuteTime": {
     "end_time": "2024-08-18T06:38:42.767967Z",
     "start_time": "2024-08-18T06:38:42.762947Z"
    }
   },
   "cell_type": "code",
   "source": "print(shap_values0[0][0])",
   "id": "f4c642adc19d3a6f",
   "outputs": [
    {
     "name": "stdout",
     "output_type": "stream",
     "text": [
      "[-0.00032768]\n"
     ]
    }
   ],
   "execution_count": 10
  },
  {
   "metadata": {
    "ExecuteTime": {
     "end_time": "2024-08-18T06:38:42.809577Z",
     "start_time": "2024-08-18T06:38:42.803867Z"
    }
   },
   "cell_type": "code",
   "source": "print(shap_values0[1][0])",
   "id": "de6318f4fda1e60",
   "outputs": [
    {
     "name": "stdout",
     "output_type": "stream",
     "text": [
      "[-0.00032768]\n"
     ]
    }
   ],
   "execution_count": 11
  },
  {
   "metadata": {
    "ExecuteTime": {
     "end_time": "2024-08-18T06:38:42.854231Z",
     "start_time": "2024-08-18T06:38:42.848205Z"
    }
   },
   "cell_type": "code",
   "source": "print(shap_values0[90])",
   "id": "822f6041aee3312d",
   "outputs": [
    {
     "name": "stdout",
     "output_type": "stream",
     "text": [
      "[[ 2.77648487e-05]\n",
      " [ 4.26489045e-04]\n",
      " [ 9.02584361e-06]\n",
      " [-1.18328353e-04]\n",
      " [ 0.00000000e+00]\n",
      " [ 4.07152373e-04]\n",
      " [-1.51462431e-04]\n",
      " [-1.87865699e-05]\n",
      " [-9.24287888e-04]\n",
      " [-1.17700803e-03]\n",
      " [ 1.03352853e-04]\n",
      " [ 4.77190886e-04]\n",
      " [ 1.31318637e-04]]\n"
     ]
    }
   ],
   "execution_count": 12
  },
  {
   "metadata": {
    "ExecuteTime": {
     "end_time": "2024-08-18T06:39:26.925728Z",
     "start_time": "2024-08-18T06:39:26.857585Z"
    }
   },
   "cell_type": "code",
   "source": "shap.summary_plot(shap_values0[0])\n",
   "id": "4f41f55bb0dad645",
   "outputs": [
    {
     "data": {
      "text/plain": [
       "<Figure size 800x190 with 1 Axes>"
      ],
      "image/png": "[encoded data removed]"
     },
     "metadata": {},
     "output_type": "display_data"
    }
   ],
   "execution_count": 15
  }
 ],
 "metadata": {
  "kernelspec": {
   "display_name": "Python 3",
   "language": "python",
   "name": "python3"
  },
  "language_info": {
   "codemirror_mode": {
    "name": "ipython",
    "version": 2
   },
   "file_extension": ".py",
   "mimetype": "text/x-python",
   "name": "python",
   "nbconvert_exporter": "python",
   "pygments_lexer": "ipython2",
   "version": "2.7.6"
  }
 },
 "nbformat": 4,
 "nbformat_minor": 5
}
