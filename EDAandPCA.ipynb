{
 "cells": [
  {
   "cell_type": "code",
   "execution_count": 23,
   "id": "initial_id",
   "metadata": {
    "ExecuteTime": {
     "end_time": "2024-08-16T08:05:12.121527Z",
     "start_time": "2024-08-16T08:05:12.022393Z"
    },
    "collapsed": true
   },
   "outputs": [],
   "source": [
    "import pandas as pd\n",
    "import numpy as np\n",
    "import matplotlib.pyplot as plt\n",
    "import plotly.express as px"
   ]
  },
  {
   "cell_type": "code",
   "execution_count": 24,
   "id": "8599049889640a7",
   "metadata": {
    "ExecuteTime": {
     "end_time": "2024-08-16T07:40:44.024774Z",
     "start_time": "2024-08-16T07:40:44.005006Z"
    }
   },
   "outputs": [
    {
     "data": {
      "text/html": [
       "<div>\n",
       "<style scoped>\n",
       "    .dataframe tbody tr th:only-of-type {\n",
       "        vertical-align: middle;\n",
       "    }\n",
       "\n",
       "    .dataframe tbody tr th {\n",
       "        vertical-align: top;\n",
       "    }\n",
       "\n",
       "    .dataframe thead th {\n",
       "        text-align: right;\n",
       "    }\n",
       "</style>\n",
       "<table border=\"1\" class=\"dataframe\">\n",
       "  <thead>\n",
       "    <tr style=\"text-align: right;\">\n",
       "      <th></th>\n",
       "      <th>CuChun</th>\n",
       "      <th>JingChun</th>\n",
       "      <th>ErJiaMi</th>\n",
       "      <th>CuSuan</th>\n",
       "      <th>YiChangYiErChun</th>\n",
       "      <th>ErChangYiErChun</th>\n",
       "      <th>YeTiChanPin</th>\n",
       "      <th>YiJing</th>\n",
       "      <th>FaDianLiang</th>\n",
       "      <th>YiQiYouXiaoQi</th>\n",
       "      <th>ErQiYouXiaoQi</th>\n",
       "      <th>YiErChunQingZuFen</th>\n",
       "      <th>YiErChunZhongZuFen</th>\n",
       "      <th>RanMei</th>\n",
       "    </tr>\n",
       "  </thead>\n",
       "  <tbody>\n",
       "    <tr>\n",
       "      <th>0</th>\n",
       "      <td>NaN</td>\n",
       "      <td>NaN</td>\n",
       "      <td>NaN</td>\n",
       "      <td>NaN</td>\n",
       "      <td>NaN</td>\n",
       "      <td>NaN</td>\n",
       "      <td>NaN</td>\n",
       "      <td>NaN</td>\n",
       "      <td>NaN</td>\n",
       "      <td>NaN</td>\n",
       "      <td>NaN</td>\n",
       "      <td>NaN</td>\n",
       "      <td>NaN</td>\n",
       "      <td>NaN</td>\n",
       "    </tr>\n",
       "    <tr>\n",
       "      <th>1</th>\n",
       "      <td>NaN</td>\n",
       "      <td>NaN</td>\n",
       "      <td>NaN</td>\n",
       "      <td>NaN</td>\n",
       "      <td>NaN</td>\n",
       "      <td>NaN</td>\n",
       "      <td>NaN</td>\n",
       "      <td>NaN</td>\n",
       "      <td>NaN</td>\n",
       "      <td>NaN</td>\n",
       "      <td>NaN</td>\n",
       "      <td>NaN</td>\n",
       "      <td>NaN</td>\n",
       "      <td>NaN</td>\n",
       "    </tr>\n",
       "    <tr>\n",
       "      <th>2</th>\n",
       "      <td>0.0</td>\n",
       "      <td>0.0</td>\n",
       "      <td>0.0</td>\n",
       "      <td>0.0</td>\n",
       "      <td>0.0</td>\n",
       "      <td>0.0</td>\n",
       "      <td>0.0</td>\n",
       "      <td>6.0</td>\n",
       "      <td>0.0</td>\n",
       "      <td>0.0</td>\n",
       "      <td>0.0</td>\n",
       "      <td>0.0</td>\n",
       "      <td>0.0</td>\n",
       "      <td>438.0</td>\n",
       "    </tr>\n",
       "    <tr>\n",
       "      <th>3</th>\n",
       "      <td>0.0</td>\n",
       "      <td>0.0</td>\n",
       "      <td>0.0</td>\n",
       "      <td>0.0</td>\n",
       "      <td>0.0</td>\n",
       "      <td>0.0</td>\n",
       "      <td>0.0</td>\n",
       "      <td>4.0</td>\n",
       "      <td>0.0</td>\n",
       "      <td>0.0</td>\n",
       "      <td>0.0</td>\n",
       "      <td>0.0</td>\n",
       "      <td>0.0</td>\n",
       "      <td>433.0</td>\n",
       "    </tr>\n",
       "    <tr>\n",
       "      <th>4</th>\n",
       "      <td>0.0</td>\n",
       "      <td>0.0</td>\n",
       "      <td>0.0</td>\n",
       "      <td>0.0</td>\n",
       "      <td>0.0</td>\n",
       "      <td>0.0</td>\n",
       "      <td>0.0</td>\n",
       "      <td>8.0</td>\n",
       "      <td>0.0</td>\n",
       "      <td>0.0</td>\n",
       "      <td>0.0</td>\n",
       "      <td>0.0</td>\n",
       "      <td>0.0</td>\n",
       "      <td>432.0</td>\n",
       "    </tr>\n",
       "  </tbody>\n",
       "</table>\n",
       "</div>"
      ],
      "text/plain": [
       "   CuChun  JingChun  ErJiaMi  CuSuan  YiChangYiErChun  ErChangYiErChun  \\\n",
       "0     NaN       NaN      NaN     NaN              NaN              NaN   \n",
       "1     NaN       NaN      NaN     NaN              NaN              NaN   \n",
       "2     0.0       0.0      0.0     0.0              0.0              0.0   \n",
       "3     0.0       0.0      0.0     0.0              0.0              0.0   \n",
       "4     0.0       0.0      0.0     0.0              0.0              0.0   \n",
       "\n",
       "   YeTiChanPin  YiJing  FaDianLiang  YiQiYouXiaoQi  ErQiYouXiaoQi  \\\n",
       "0          NaN     NaN          NaN            NaN            NaN   \n",
       "1          NaN     NaN          NaN            NaN            NaN   \n",
       "2          0.0     6.0          0.0            0.0            0.0   \n",
       "3          0.0     4.0          0.0            0.0            0.0   \n",
       "4          0.0     8.0          0.0            0.0            0.0   \n",
       "\n",
       "   YiErChunQingZuFen  YiErChunZhongZuFen  RanMei  \n",
       "0                NaN                 NaN     NaN  \n",
       "1                NaN                 NaN     NaN  \n",
       "2                0.0                 0.0   438.0  \n",
       "3                0.0                 0.0   433.0  \n",
       "4                0.0                 0.0   432.0  "
      ]
     },
     "execution_count": 24,
     "metadata": {},
     "output_type": "execute_result"
    }
   ],
   "source": [
    "data = pd.read_csv('./data/data.csv')\n",
    "data.head()"
   ]
  },
  {
   "cell_type": "markdown",
   "id": "b50884ea7f70b057",
   "metadata": {},
   "source": [
    "**Note**: (365,14) is the data frame's shape"
   ]
  },
  {
   "cell_type": "code",
   "execution_count": 25,
   "id": "b7895e188fd23984",
   "metadata": {
    "ExecuteTime": {
     "end_time": "2024-08-16T07:40:44.239409Z",
     "start_time": "2024-08-16T07:40:44.236901Z"
    }
   },
   "outputs": [],
   "source": [
    "# uncomment below to get more info about data\n",
    "# print(data.dtypes)\n"
   ]
  },
  {
   "cell_type": "markdown",
   "id": "96150efbe7c7d03c",
   "metadata": {},
   "source": [
    "Down below we perform PCA on data."
   ]
  },
  {
   "cell_type": "code",
   "execution_count": 26,
   "id": "915ca2546cff16b7",
   "metadata": {
    "ExecuteTime": {
     "end_time": "2024-08-16T07:40:44.292009Z",
     "start_time": "2024-08-16T07:40:44.279349Z"
    }
   },
   "outputs": [
    {
     "data": {
      "text/html": [
       "<div>\n",
       "<style scoped>\n",
       "    .dataframe tbody tr th:only-of-type {\n",
       "        vertical-align: middle;\n",
       "    }\n",
       "\n",
       "    .dataframe tbody tr th {\n",
       "        vertical-align: top;\n",
       "    }\n",
       "\n",
       "    .dataframe thead th {\n",
       "        text-align: right;\n",
       "    }\n",
       "</style>\n",
       "<table border=\"1\" class=\"dataframe\">\n",
       "  <thead>\n",
       "    <tr style=\"text-align: right;\">\n",
       "      <th></th>\n",
       "      <th>CuChun</th>\n",
       "      <th>JingChun</th>\n",
       "      <th>ErJiaMi</th>\n",
       "      <th>CuSuan</th>\n",
       "      <th>YiChangYiErChun</th>\n",
       "      <th>ErChangYiErChun</th>\n",
       "      <th>YeTiChanPin</th>\n",
       "      <th>YiJing</th>\n",
       "      <th>FaDianLiang</th>\n",
       "      <th>YiQiYouXiaoQi</th>\n",
       "      <th>ErQiYouXiaoQi</th>\n",
       "      <th>YiErChunQingZuFen</th>\n",
       "      <th>YiErChunZhongZuFen</th>\n",
       "    </tr>\n",
       "  </thead>\n",
       "  <tbody>\n",
       "    <tr>\n",
       "      <th>0</th>\n",
       "      <td>0.0</td>\n",
       "      <td>0.0</td>\n",
       "      <td>0.0</td>\n",
       "      <td>0.0</td>\n",
       "      <td>0.0</td>\n",
       "      <td>0.0</td>\n",
       "      <td>0.0</td>\n",
       "      <td>0.0</td>\n",
       "      <td>0.0</td>\n",
       "      <td>0.0</td>\n",
       "      <td>0.0</td>\n",
       "      <td>0.0</td>\n",
       "      <td>0.0</td>\n",
       "    </tr>\n",
       "    <tr>\n",
       "      <th>1</th>\n",
       "      <td>0.0</td>\n",
       "      <td>0.0</td>\n",
       "      <td>0.0</td>\n",
       "      <td>0.0</td>\n",
       "      <td>0.0</td>\n",
       "      <td>0.0</td>\n",
       "      <td>0.0</td>\n",
       "      <td>0.0</td>\n",
       "      <td>0.0</td>\n",
       "      <td>0.0</td>\n",
       "      <td>0.0</td>\n",
       "      <td>0.0</td>\n",
       "      <td>0.0</td>\n",
       "    </tr>\n",
       "    <tr>\n",
       "      <th>2</th>\n",
       "      <td>0.0</td>\n",
       "      <td>0.0</td>\n",
       "      <td>0.0</td>\n",
       "      <td>0.0</td>\n",
       "      <td>0.0</td>\n",
       "      <td>0.0</td>\n",
       "      <td>0.0</td>\n",
       "      <td>6.0</td>\n",
       "      <td>0.0</td>\n",
       "      <td>0.0</td>\n",
       "      <td>0.0</td>\n",
       "      <td>0.0</td>\n",
       "      <td>0.0</td>\n",
       "    </tr>\n",
       "    <tr>\n",
       "      <th>3</th>\n",
       "      <td>0.0</td>\n",
       "      <td>0.0</td>\n",
       "      <td>0.0</td>\n",
       "      <td>0.0</td>\n",
       "      <td>0.0</td>\n",
       "      <td>0.0</td>\n",
       "      <td>0.0</td>\n",
       "      <td>4.0</td>\n",
       "      <td>0.0</td>\n",
       "      <td>0.0</td>\n",
       "      <td>0.0</td>\n",
       "      <td>0.0</td>\n",
       "      <td>0.0</td>\n",
       "    </tr>\n",
       "    <tr>\n",
       "      <th>4</th>\n",
       "      <td>0.0</td>\n",
       "      <td>0.0</td>\n",
       "      <td>0.0</td>\n",
       "      <td>0.0</td>\n",
       "      <td>0.0</td>\n",
       "      <td>0.0</td>\n",
       "      <td>0.0</td>\n",
       "      <td>8.0</td>\n",
       "      <td>0.0</td>\n",
       "      <td>0.0</td>\n",
       "      <td>0.0</td>\n",
       "      <td>0.0</td>\n",
       "      <td>0.0</td>\n",
       "    </tr>\n",
       "  </tbody>\n",
       "</table>\n",
       "</div>"
      ],
      "text/plain": [
       "   CuChun  JingChun  ErJiaMi  CuSuan  YiChangYiErChun  ErChangYiErChun  \\\n",
       "0     0.0       0.0      0.0     0.0              0.0              0.0   \n",
       "1     0.0       0.0      0.0     0.0              0.0              0.0   \n",
       "2     0.0       0.0      0.0     0.0              0.0              0.0   \n",
       "3     0.0       0.0      0.0     0.0              0.0              0.0   \n",
       "4     0.0       0.0      0.0     0.0              0.0              0.0   \n",
       "\n",
       "   YeTiChanPin  YiJing  FaDianLiang  YiQiYouXiaoQi  ErQiYouXiaoQi  \\\n",
       "0          0.0     0.0          0.0            0.0            0.0   \n",
       "1          0.0     0.0          0.0            0.0            0.0   \n",
       "2          0.0     6.0          0.0            0.0            0.0   \n",
       "3          0.0     4.0          0.0            0.0            0.0   \n",
       "4          0.0     8.0          0.0            0.0            0.0   \n",
       "\n",
       "   YiErChunQingZuFen  YiErChunZhongZuFen  \n",
       "0                0.0                 0.0  \n",
       "1                0.0                 0.0  \n",
       "2                0.0                 0.0  \n",
       "3                0.0                 0.0  \n",
       "4                0.0                 0.0  "
      ]
     },
     "execution_count": 26,
     "metadata": {},
     "output_type": "execute_result"
    }
   ],
   "source": [
    "data = data.fillna(0) # 根据节假日置零!\n",
    "c_feature = data.drop(['RanMei'], axis=1)\n",
    "c_target = data['RanMei']\n",
    "c_feature.head()"
   ]
  },
  {
   "cell_type": "markdown",
   "id": "22135cf72dd46198",
   "metadata": {},
   "source": [
    "## Standardization and SVD"
   ]
  },
  {
   "cell_type": "code",
   "execution_count": 27,
   "id": "2d5af1b8da019882",
   "metadata": {
    "ExecuteTime": {
     "end_time": "2024-08-16T07:40:44.373053Z",
     "start_time": "2024-08-16T07:40:44.367069Z"
    }
   },
   "outputs": [
    {
     "data": {
      "text/plain": [
       "(CuChun                1289.528767\n",
       " JingChun               999.427397\n",
       " ErJiaMi                137.295890\n",
       " CuSuan                1338.742466\n",
       " YiChangYiErChun          0.000000\n",
       " ErChangYiErChun        281.690411\n",
       " YeTiChanPin            125.989041\n",
       " YiJing                  26.378082\n",
       " FaDianLiang             26.273973\n",
       " YiQiYouXiaoQi          170.602740\n",
       " ErQiYouXiaoQi          253.643836\n",
       " YiErChunQingZuFen       20.079452\n",
       " YiErChunZhongZuFen       3.301370\n",
       " dtype: float64,\n",
       " CuChun                353.686646\n",
       " JingChun              474.761118\n",
       " ErJiaMi               146.833911\n",
       " CuSuan                367.494232\n",
       " YiChangYiErChun         0.000000\n",
       " ErChangYiErChun       268.390964\n",
       " YeTiChanPin            64.357221\n",
       " YiJing                  6.583879\n",
       " FaDianLiang            18.716609\n",
       " YiQiYouXiaoQi         159.084464\n",
       " ErQiYouXiaoQi         108.403226\n",
       " YiErChunQingZuFen      19.810243\n",
       " YiErChunZhongZuFen      3.280849\n",
       " dtype: float64)"
      ]
     },
     "execution_count": 27,
     "metadata": {},
     "output_type": "execute_result"
    }
   ],
   "source": [
    "c_mean = np.mean(c_feature, axis=0)\n",
    "c_std = np.std(c_feature, axis=0)\n",
    "c_standardized = (c_feature - c_mean) / c_std\n",
    "c_mean, c_std"
   ]
  },
  {
   "cell_type": "code",
   "execution_count": 29,
   "id": "4bde742dcde82e80",
   "metadata": {
    "ExecuteTime": {
     "end_time": "2024-08-16T07:40:44.794916Z",
     "start_time": "2024-08-16T07:40:44.503697Z"
    }
   },
   "outputs": [
    {
     "ename": "LinAlgError",
     "evalue": "SVD did not converge",
     "output_type": "error",
     "traceback": [
      "\u001b[1;31m---------------------------------------------------------------------------\u001b[0m",
      "\u001b[1;31mLinAlgError\u001b[0m                               Traceback (most recent call last)",
      "Cell \u001b[1;32mIn[29], line 1\u001b[0m\n\u001b[1;32m----> 1\u001b[0m u0, s0, vt0 \u001b[38;5;241m=\u001b[39m \u001b[43mnp\u001b[49m\u001b[38;5;241;43m.\u001b[39;49m\u001b[43mlinalg\u001b[49m\u001b[38;5;241;43m.\u001b[39;49m\u001b[43msvd\u001b[49m\u001b[43m(\u001b[49m\u001b[43mc_standardized\u001b[49m\u001b[43m)\u001b[49m\n\u001b[0;32m      2\u001b[0m u0\u001b[38;5;241m.\u001b[39mshape, s0, vt0\u001b[38;5;241m.\u001b[39mshape\n",
      "File \u001b[1;32mc:\\Users\\24349\\.conda\\envs\\PRPsu24\\Lib\\site-packages\\numpy\\linalg\\linalg.py:1681\u001b[0m, in \u001b[0;36msvd\u001b[1;34m(a, full_matrices, compute_uv, hermitian)\u001b[0m\n\u001b[0;32m   1678\u001b[0m         gufunc \u001b[38;5;241m=\u001b[39m _umath_linalg\u001b[38;5;241m.\u001b[39msvd_n_s\n\u001b[0;32m   1680\u001b[0m signature \u001b[38;5;241m=\u001b[39m \u001b[38;5;124m'\u001b[39m\u001b[38;5;124mD->DdD\u001b[39m\u001b[38;5;124m'\u001b[39m \u001b[38;5;28;01mif\u001b[39;00m isComplexType(t) \u001b[38;5;28;01melse\u001b[39;00m \u001b[38;5;124m'\u001b[39m\u001b[38;5;124md->ddd\u001b[39m\u001b[38;5;124m'\u001b[39m\n\u001b[1;32m-> 1681\u001b[0m u, s, vh \u001b[38;5;241m=\u001b[39m \u001b[43mgufunc\u001b[49m\u001b[43m(\u001b[49m\u001b[43ma\u001b[49m\u001b[43m,\u001b[49m\u001b[43m \u001b[49m\u001b[43msignature\u001b[49m\u001b[38;5;241;43m=\u001b[39;49m\u001b[43msignature\u001b[49m\u001b[43m,\u001b[49m\u001b[43m \u001b[49m\u001b[43mextobj\u001b[49m\u001b[38;5;241;43m=\u001b[39;49m\u001b[43mextobj\u001b[49m\u001b[43m)\u001b[49m\n\u001b[0;32m   1682\u001b[0m u \u001b[38;5;241m=\u001b[39m u\u001b[38;5;241m.\u001b[39mastype(result_t, copy\u001b[38;5;241m=\u001b[39m\u001b[38;5;28;01mFalse\u001b[39;00m)\n\u001b[0;32m   1683\u001b[0m s \u001b[38;5;241m=\u001b[39m s\u001b[38;5;241m.\u001b[39mastype(_realType(result_t), copy\u001b[38;5;241m=\u001b[39m\u001b[38;5;28;01mFalse\u001b[39;00m)\n",
      "File \u001b[1;32mc:\\Users\\24349\\.conda\\envs\\PRPsu24\\Lib\\site-packages\\numpy\\linalg\\linalg.py:121\u001b[0m, in \u001b[0;36m_raise_linalgerror_svd_nonconvergence\u001b[1;34m(err, flag)\u001b[0m\n\u001b[0;32m    120\u001b[0m \u001b[38;5;28;01mdef\u001b[39;00m \u001b[38;5;21m_raise_linalgerror_svd_nonconvergence\u001b[39m(err, flag):\n\u001b[1;32m--> 121\u001b[0m     \u001b[38;5;28;01mraise\u001b[39;00m LinAlgError(\u001b[38;5;124m\"\u001b[39m\u001b[38;5;124mSVD did not converge\u001b[39m\u001b[38;5;124m\"\u001b[39m)\n",
      "\u001b[1;31mLinAlgError\u001b[0m: SVD did not converge"
     ]
    }
   ],
   "source": [
    "u0, s0, vt0 = np.linalg.svd(c_standardized)\n",
    "u0.shape, s0, vt0.shape"
   ]
  },
  {
   "cell_type": "markdown",
   "id": "1525db0d36d5239e",
   "metadata": {},
   "source": [
    "看上去SVD没有收敛，很有意思的情况\n",
    "\n",
    "猜想：\n",
    "1. 矩阵不满秩--->全是0行?\n",
    "2. 有NaN"
   ]
  },
  {
   "cell_type": "code",
   "execution_count": 30,
   "id": "ade29aadd618b54c",
   "metadata": {
    "ExecuteTime": {
     "end_time": "2024-08-16T07:45:13.615268Z",
     "start_time": "2024-08-16T07:45:13.611433Z"
    }
   },
   "outputs": [],
   "source": [
    "c_standardized = c_standardized.drop(index=c_standardized[(c_standardized == 0.0).all(axis=1)].index)"
   ]
  },
  {
   "cell_type": "code",
   "execution_count": 31,
   "id": "eb255fa1d81c903b",
   "metadata": {
    "ExecuteTime": {
     "end_time": "2024-08-16T07:45:40.678927Z",
     "start_time": "2024-08-16T07:45:40.674601Z"
    }
   },
   "outputs": [
    {
     "data": {
      "text/plain": [
       "(365, 13)"
      ]
     },
     "execution_count": 31,
     "metadata": {},
     "output_type": "execute_result"
    }
   ],
   "source": [
    "c_standardized.shape"
   ]
  },
  {
   "cell_type": "markdown",
   "id": "c41a3c8cfc6c89c9",
   "metadata": {},
   "source": [
    "猜想1不成立"
   ]
  },
  {
   "cell_type": "code",
   "execution_count": 32,
   "id": "3ae42d78e5afe31c",
   "metadata": {
    "ExecuteTime": {
     "end_time": "2024-08-16T07:46:06.595482Z",
     "start_time": "2024-08-16T07:46:06.584333Z"
    }
   },
   "outputs": [
    {
     "data": {
      "text/html": [
       "<div>\n",
       "<style scoped>\n",
       "    .dataframe tbody tr th:only-of-type {\n",
       "        vertical-align: middle;\n",
       "    }\n",
       "\n",
       "    .dataframe tbody tr th {\n",
       "        vertical-align: top;\n",
       "    }\n",
       "\n",
       "    .dataframe thead th {\n",
       "        text-align: right;\n",
       "    }\n",
       "</style>\n",
       "<table border=\"1\" class=\"dataframe\">\n",
       "  <thead>\n",
       "    <tr style=\"text-align: right;\">\n",
       "      <th></th>\n",
       "      <th>CuChun</th>\n",
       "      <th>JingChun</th>\n",
       "      <th>ErJiaMi</th>\n",
       "      <th>CuSuan</th>\n",
       "      <th>YiChangYiErChun</th>\n",
       "      <th>ErChangYiErChun</th>\n",
       "      <th>YeTiChanPin</th>\n",
       "      <th>YiJing</th>\n",
       "      <th>FaDianLiang</th>\n",
       "      <th>YiQiYouXiaoQi</th>\n",
       "      <th>ErQiYouXiaoQi</th>\n",
       "      <th>YiErChunQingZuFen</th>\n",
       "      <th>YiErChunZhongZuFen</th>\n",
       "    </tr>\n",
       "  </thead>\n",
       "  <tbody>\n",
       "    <tr>\n",
       "      <th>0</th>\n",
       "      <td>-3.645964</td>\n",
       "      <td>-2.105116</td>\n",
       "      <td>-0.935042</td>\n",
       "      <td>-3.642894</td>\n",
       "      <td>NaN</td>\n",
       "      <td>-1.049553</td>\n",
       "      <td>-1.957652</td>\n",
       "      <td>-4.006465</td>\n",
       "      <td>-1.403778</td>\n",
       "      <td>-1.072404</td>\n",
       "      <td>-2.339818</td>\n",
       "      <td>-1.013589</td>\n",
       "      <td>-1.006255</td>\n",
       "    </tr>\n",
       "    <tr>\n",
       "      <th>1</th>\n",
       "      <td>-3.645964</td>\n",
       "      <td>-2.105116</td>\n",
       "      <td>-0.935042</td>\n",
       "      <td>-3.642894</td>\n",
       "      <td>NaN</td>\n",
       "      <td>-1.049553</td>\n",
       "      <td>-1.957652</td>\n",
       "      <td>-4.006465</td>\n",
       "      <td>-1.403778</td>\n",
       "      <td>-1.072404</td>\n",
       "      <td>-2.339818</td>\n",
       "      <td>-1.013589</td>\n",
       "      <td>-1.006255</td>\n",
       "    </tr>\n",
       "    <tr>\n",
       "      <th>2</th>\n",
       "      <td>-3.645964</td>\n",
       "      <td>-2.105116</td>\n",
       "      <td>-0.935042</td>\n",
       "      <td>-3.642894</td>\n",
       "      <td>NaN</td>\n",
       "      <td>-1.049553</td>\n",
       "      <td>-1.957652</td>\n",
       "      <td>-3.095148</td>\n",
       "      <td>-1.403778</td>\n",
       "      <td>-1.072404</td>\n",
       "      <td>-2.339818</td>\n",
       "      <td>-1.013589</td>\n",
       "      <td>-1.006255</td>\n",
       "    </tr>\n",
       "    <tr>\n",
       "      <th>3</th>\n",
       "      <td>-3.645964</td>\n",
       "      <td>-2.105116</td>\n",
       "      <td>-0.935042</td>\n",
       "      <td>-3.642894</td>\n",
       "      <td>NaN</td>\n",
       "      <td>-1.049553</td>\n",
       "      <td>-1.957652</td>\n",
       "      <td>-3.398921</td>\n",
       "      <td>-1.403778</td>\n",
       "      <td>-1.072404</td>\n",
       "      <td>-2.339818</td>\n",
       "      <td>-1.013589</td>\n",
       "      <td>-1.006255</td>\n",
       "    </tr>\n",
       "    <tr>\n",
       "      <th>4</th>\n",
       "      <td>-3.645964</td>\n",
       "      <td>-2.105116</td>\n",
       "      <td>-0.935042</td>\n",
       "      <td>-3.642894</td>\n",
       "      <td>NaN</td>\n",
       "      <td>-1.049553</td>\n",
       "      <td>-1.957652</td>\n",
       "      <td>-2.791376</td>\n",
       "      <td>-1.403778</td>\n",
       "      <td>-1.072404</td>\n",
       "      <td>-2.339818</td>\n",
       "      <td>-1.013589</td>\n",
       "      <td>-1.006255</td>\n",
       "    </tr>\n",
       "    <tr>\n",
       "      <th>...</th>\n",
       "      <td>...</td>\n",
       "      <td>...</td>\n",
       "      <td>...</td>\n",
       "      <td>...</td>\n",
       "      <td>...</td>\n",
       "      <td>...</td>\n",
       "      <td>...</td>\n",
       "      <td>...</td>\n",
       "      <td>...</td>\n",
       "      <td>...</td>\n",
       "      <td>...</td>\n",
       "      <td>...</td>\n",
       "      <td>...</td>\n",
       "    </tr>\n",
       "    <tr>\n",
       "      <th>360</th>\n",
       "      <td>0.306687</td>\n",
       "      <td>0.837416</td>\n",
       "      <td>-0.935042</td>\n",
       "      <td>0.046960</td>\n",
       "      <td>NaN</td>\n",
       "      <td>0.906549</td>\n",
       "      <td>1.553997</td>\n",
       "      <td>0.246347</td>\n",
       "      <td>-0.495494</td>\n",
       "      <td>0.970536</td>\n",
       "      <td>-0.633227</td>\n",
       "      <td>0.955089</td>\n",
       "      <td>0.822540</td>\n",
       "    </tr>\n",
       "    <tr>\n",
       "      <th>361</th>\n",
       "      <td>0.301033</td>\n",
       "      <td>0.380344</td>\n",
       "      <td>-0.935042</td>\n",
       "      <td>0.038797</td>\n",
       "      <td>NaN</td>\n",
       "      <td>0.899097</td>\n",
       "      <td>1.522921</td>\n",
       "      <td>0.246347</td>\n",
       "      <td>-0.228352</td>\n",
       "      <td>0.976822</td>\n",
       "      <td>-0.624002</td>\n",
       "      <td>1.005568</td>\n",
       "      <td>0.822540</td>\n",
       "    </tr>\n",
       "    <tr>\n",
       "      <th>362</th>\n",
       "      <td>0.258622</td>\n",
       "      <td>0.711037</td>\n",
       "      <td>-0.935042</td>\n",
       "      <td>-0.031953</td>\n",
       "      <td>NaN</td>\n",
       "      <td>0.671817</td>\n",
       "      <td>1.274309</td>\n",
       "      <td>-0.361198</td>\n",
       "      <td>-0.014638</td>\n",
       "      <td>0.876247</td>\n",
       "      <td>-0.605552</td>\n",
       "      <td>0.854131</td>\n",
       "      <td>0.822540</td>\n",
       "    </tr>\n",
       "    <tr>\n",
       "      <th>363</th>\n",
       "      <td>0.479156</td>\n",
       "      <td>0.826884</td>\n",
       "      <td>-0.935042</td>\n",
       "      <td>-0.012905</td>\n",
       "      <td>NaN</td>\n",
       "      <td>0.932630</td>\n",
       "      <td>1.460768</td>\n",
       "      <td>0.094461</td>\n",
       "      <td>0.626504</td>\n",
       "      <td>1.008252</td>\n",
       "      <td>-0.587103</td>\n",
       "      <td>0.955089</td>\n",
       "      <td>0.822540</td>\n",
       "    </tr>\n",
       "    <tr>\n",
       "      <th>364</th>\n",
       "      <td>0.326479</td>\n",
       "      <td>0.837416</td>\n",
       "      <td>-0.935042</td>\n",
       "      <td>0.030633</td>\n",
       "      <td>NaN</td>\n",
       "      <td>0.895371</td>\n",
       "      <td>1.476306</td>\n",
       "      <td>-1.728173</td>\n",
       "      <td>0.092219</td>\n",
       "      <td>0.920249</td>\n",
       "      <td>-0.577878</td>\n",
       "      <td>0.955089</td>\n",
       "      <td>0.822540</td>\n",
       "    </tr>\n",
       "  </tbody>\n",
       "</table>\n",
       "<p>365 rows × 13 columns</p>\n",
       "</div>"
      ],
      "text/plain": [
       "       CuChun  JingChun   ErJiaMi    CuSuan  YiChangYiErChun  ErChangYiErChun  \\\n",
       "0   -3.645964 -2.105116 -0.935042 -3.642894              NaN        -1.049553   \n",
       "1   -3.645964 -2.105116 -0.935042 -3.642894              NaN        -1.049553   \n",
       "2   -3.645964 -2.105116 -0.935042 -3.642894              NaN        -1.049553   \n",
       "3   -3.645964 -2.105116 -0.935042 -3.642894              NaN        -1.049553   \n",
       "4   -3.645964 -2.105116 -0.935042 -3.642894              NaN        -1.049553   \n",
       "..        ...       ...       ...       ...              ...              ...   \n",
       "360  0.306687  0.837416 -0.935042  0.046960              NaN         0.906549   \n",
       "361  0.301033  0.380344 -0.935042  0.038797              NaN         0.899097   \n",
       "362  0.258622  0.711037 -0.935042 -0.031953              NaN         0.671817   \n",
       "363  0.479156  0.826884 -0.935042 -0.012905              NaN         0.932630   \n",
       "364  0.326479  0.837416 -0.935042  0.030633              NaN         0.895371   \n",
       "\n",
       "     YeTiChanPin    YiJing  FaDianLiang  YiQiYouXiaoQi  ErQiYouXiaoQi  \\\n",
       "0      -1.957652 -4.006465    -1.403778      -1.072404      -2.339818   \n",
       "1      -1.957652 -4.006465    -1.403778      -1.072404      -2.339818   \n",
       "2      -1.957652 -3.095148    -1.403778      -1.072404      -2.339818   \n",
       "3      -1.957652 -3.398921    -1.403778      -1.072404      -2.339818   \n",
       "4      -1.957652 -2.791376    -1.403778      -1.072404      -2.339818   \n",
       "..           ...       ...          ...            ...            ...   \n",
       "360     1.553997  0.246347    -0.495494       0.970536      -0.633227   \n",
       "361     1.522921  0.246347    -0.228352       0.976822      -0.624002   \n",
       "362     1.274309 -0.361198    -0.014638       0.876247      -0.605552   \n",
       "363     1.460768  0.094461     0.626504       1.008252      -0.587103   \n",
       "364     1.476306 -1.728173     0.092219       0.920249      -0.577878   \n",
       "\n",
       "     YiErChunQingZuFen  YiErChunZhongZuFen  \n",
       "0            -1.013589           -1.006255  \n",
       "1            -1.013589           -1.006255  \n",
       "2            -1.013589           -1.006255  \n",
       "3            -1.013589           -1.006255  \n",
       "4            -1.013589           -1.006255  \n",
       "..                 ...                 ...  \n",
       "360           0.955089            0.822540  \n",
       "361           1.005568            0.822540  \n",
       "362           0.854131            0.822540  \n",
       "363           0.955089            0.822540  \n",
       "364           0.955089            0.822540  \n",
       "\n",
       "[365 rows x 13 columns]"
      ]
     },
     "execution_count": 32,
     "metadata": {},
     "output_type": "execute_result"
    }
   ],
   "source": [
    "c_standardized"
   ]
  },
  {
   "cell_type": "markdown",
   "id": "d84b28dd75e5a3b3",
   "metadata": {},
   "source": [
    "一厂乙二醇出现问题，舍去之"
   ]
  },
  {
   "cell_type": "code",
   "execution_count": 33,
   "id": "5a960438385c3edf",
   "metadata": {
    "ExecuteTime": {
     "end_time": "2024-08-16T07:47:31.391627Z",
     "start_time": "2024-08-16T07:47:31.380535Z"
    }
   },
   "outputs": [
    {
     "data": {
      "text/html": [
       "<div>\n",
       "<style scoped>\n",
       "    .dataframe tbody tr th:only-of-type {\n",
       "        vertical-align: middle;\n",
       "    }\n",
       "\n",
       "    .dataframe tbody tr th {\n",
       "        vertical-align: top;\n",
       "    }\n",
       "\n",
       "    .dataframe thead th {\n",
       "        text-align: right;\n",
       "    }\n",
       "</style>\n",
       "<table border=\"1\" class=\"dataframe\">\n",
       "  <thead>\n",
       "    <tr style=\"text-align: right;\">\n",
       "      <th></th>\n",
       "      <th>CuChun</th>\n",
       "      <th>JingChun</th>\n",
       "      <th>ErJiaMi</th>\n",
       "      <th>CuSuan</th>\n",
       "      <th>ErChangYiErChun</th>\n",
       "      <th>YeTiChanPin</th>\n",
       "      <th>YiJing</th>\n",
       "      <th>FaDianLiang</th>\n",
       "      <th>YiQiYouXiaoQi</th>\n",
       "      <th>ErQiYouXiaoQi</th>\n",
       "      <th>YiErChunQingZuFen</th>\n",
       "      <th>YiErChunZhongZuFen</th>\n",
       "    </tr>\n",
       "  </thead>\n",
       "  <tbody>\n",
       "    <tr>\n",
       "      <th>0</th>\n",
       "      <td>-3.645964</td>\n",
       "      <td>-2.105116</td>\n",
       "      <td>-0.935042</td>\n",
       "      <td>-3.642894</td>\n",
       "      <td>-1.049553</td>\n",
       "      <td>-1.957652</td>\n",
       "      <td>-4.006465</td>\n",
       "      <td>-1.403778</td>\n",
       "      <td>-1.072404</td>\n",
       "      <td>-2.339818</td>\n",
       "      <td>-1.013589</td>\n",
       "      <td>-1.006255</td>\n",
       "    </tr>\n",
       "    <tr>\n",
       "      <th>1</th>\n",
       "      <td>-3.645964</td>\n",
       "      <td>-2.105116</td>\n",
       "      <td>-0.935042</td>\n",
       "      <td>-3.642894</td>\n",
       "      <td>-1.049553</td>\n",
       "      <td>-1.957652</td>\n",
       "      <td>-4.006465</td>\n",
       "      <td>-1.403778</td>\n",
       "      <td>-1.072404</td>\n",
       "      <td>-2.339818</td>\n",
       "      <td>-1.013589</td>\n",
       "      <td>-1.006255</td>\n",
       "    </tr>\n",
       "    <tr>\n",
       "      <th>2</th>\n",
       "      <td>-3.645964</td>\n",
       "      <td>-2.105116</td>\n",
       "      <td>-0.935042</td>\n",
       "      <td>-3.642894</td>\n",
       "      <td>-1.049553</td>\n",
       "      <td>-1.957652</td>\n",
       "      <td>-3.095148</td>\n",
       "      <td>-1.403778</td>\n",
       "      <td>-1.072404</td>\n",
       "      <td>-2.339818</td>\n",
       "      <td>-1.013589</td>\n",
       "      <td>-1.006255</td>\n",
       "    </tr>\n",
       "    <tr>\n",
       "      <th>3</th>\n",
       "      <td>-3.645964</td>\n",
       "      <td>-2.105116</td>\n",
       "      <td>-0.935042</td>\n",
       "      <td>-3.642894</td>\n",
       "      <td>-1.049553</td>\n",
       "      <td>-1.957652</td>\n",
       "      <td>-3.398921</td>\n",
       "      <td>-1.403778</td>\n",
       "      <td>-1.072404</td>\n",
       "      <td>-2.339818</td>\n",
       "      <td>-1.013589</td>\n",
       "      <td>-1.006255</td>\n",
       "    </tr>\n",
       "    <tr>\n",
       "      <th>4</th>\n",
       "      <td>-3.645964</td>\n",
       "      <td>-2.105116</td>\n",
       "      <td>-0.935042</td>\n",
       "      <td>-3.642894</td>\n",
       "      <td>-1.049553</td>\n",
       "      <td>-1.957652</td>\n",
       "      <td>-2.791376</td>\n",
       "      <td>-1.403778</td>\n",
       "      <td>-1.072404</td>\n",
       "      <td>-2.339818</td>\n",
       "      <td>-1.013589</td>\n",
       "      <td>-1.006255</td>\n",
       "    </tr>\n",
       "    <tr>\n",
       "      <th>...</th>\n",
       "      <td>...</td>\n",
       "      <td>...</td>\n",
       "      <td>...</td>\n",
       "      <td>...</td>\n",
       "      <td>...</td>\n",
       "      <td>...</td>\n",
       "      <td>...</td>\n",
       "      <td>...</td>\n",
       "      <td>...</td>\n",
       "      <td>...</td>\n",
       "      <td>...</td>\n",
       "      <td>...</td>\n",
       "    </tr>\n",
       "    <tr>\n",
       "      <th>360</th>\n",
       "      <td>0.306687</td>\n",
       "      <td>0.837416</td>\n",
       "      <td>-0.935042</td>\n",
       "      <td>0.046960</td>\n",
       "      <td>0.906549</td>\n",
       "      <td>1.553997</td>\n",
       "      <td>0.246347</td>\n",
       "      <td>-0.495494</td>\n",
       "      <td>0.970536</td>\n",
       "      <td>-0.633227</td>\n",
       "      <td>0.955089</td>\n",
       "      <td>0.822540</td>\n",
       "    </tr>\n",
       "    <tr>\n",
       "      <th>361</th>\n",
       "      <td>0.301033</td>\n",
       "      <td>0.380344</td>\n",
       "      <td>-0.935042</td>\n",
       "      <td>0.038797</td>\n",
       "      <td>0.899097</td>\n",
       "      <td>1.522921</td>\n",
       "      <td>0.246347</td>\n",
       "      <td>-0.228352</td>\n",
       "      <td>0.976822</td>\n",
       "      <td>-0.624002</td>\n",
       "      <td>1.005568</td>\n",
       "      <td>0.822540</td>\n",
       "    </tr>\n",
       "    <tr>\n",
       "      <th>362</th>\n",
       "      <td>0.258622</td>\n",
       "      <td>0.711037</td>\n",
       "      <td>-0.935042</td>\n",
       "      <td>-0.031953</td>\n",
       "      <td>0.671817</td>\n",
       "      <td>1.274309</td>\n",
       "      <td>-0.361198</td>\n",
       "      <td>-0.014638</td>\n",
       "      <td>0.876247</td>\n",
       "      <td>-0.605552</td>\n",
       "      <td>0.854131</td>\n",
       "      <td>0.822540</td>\n",
       "    </tr>\n",
       "    <tr>\n",
       "      <th>363</th>\n",
       "      <td>0.479156</td>\n",
       "      <td>0.826884</td>\n",
       "      <td>-0.935042</td>\n",
       "      <td>-0.012905</td>\n",
       "      <td>0.932630</td>\n",
       "      <td>1.460768</td>\n",
       "      <td>0.094461</td>\n",
       "      <td>0.626504</td>\n",
       "      <td>1.008252</td>\n",
       "      <td>-0.587103</td>\n",
       "      <td>0.955089</td>\n",
       "      <td>0.822540</td>\n",
       "    </tr>\n",
       "    <tr>\n",
       "      <th>364</th>\n",
       "      <td>0.326479</td>\n",
       "      <td>0.837416</td>\n",
       "      <td>-0.935042</td>\n",
       "      <td>0.030633</td>\n",
       "      <td>0.895371</td>\n",
       "      <td>1.476306</td>\n",
       "      <td>-1.728173</td>\n",
       "      <td>0.092219</td>\n",
       "      <td>0.920249</td>\n",
       "      <td>-0.577878</td>\n",
       "      <td>0.955089</td>\n",
       "      <td>0.822540</td>\n",
       "    </tr>\n",
       "  </tbody>\n",
       "</table>\n",
       "<p>365 rows × 12 columns</p>\n",
       "</div>"
      ],
      "text/plain": [
       "       CuChun  JingChun   ErJiaMi    CuSuan  ErChangYiErChun  YeTiChanPin  \\\n",
       "0   -3.645964 -2.105116 -0.935042 -3.642894        -1.049553    -1.957652   \n",
       "1   -3.645964 -2.105116 -0.935042 -3.642894        -1.049553    -1.957652   \n",
       "2   -3.645964 -2.105116 -0.935042 -3.642894        -1.049553    -1.957652   \n",
       "3   -3.645964 -2.105116 -0.935042 -3.642894        -1.049553    -1.957652   \n",
       "4   -3.645964 -2.105116 -0.935042 -3.642894        -1.049553    -1.957652   \n",
       "..        ...       ...       ...       ...              ...          ...   \n",
       "360  0.306687  0.837416 -0.935042  0.046960         0.906549     1.553997   \n",
       "361  0.301033  0.380344 -0.935042  0.038797         0.899097     1.522921   \n",
       "362  0.258622  0.711037 -0.935042 -0.031953         0.671817     1.274309   \n",
       "363  0.479156  0.826884 -0.935042 -0.012905         0.932630     1.460768   \n",
       "364  0.326479  0.837416 -0.935042  0.030633         0.895371     1.476306   \n",
       "\n",
       "       YiJing  FaDianLiang  YiQiYouXiaoQi  ErQiYouXiaoQi  YiErChunQingZuFen  \\\n",
       "0   -4.006465    -1.403778      -1.072404      -2.339818          -1.013589   \n",
       "1   -4.006465    -1.403778      -1.072404      -2.339818          -1.013589   \n",
       "2   -3.095148    -1.403778      -1.072404      -2.339818          -1.013589   \n",
       "3   -3.398921    -1.403778      -1.072404      -2.339818          -1.013589   \n",
       "4   -2.791376    -1.403778      -1.072404      -2.339818          -1.013589   \n",
       "..        ...          ...            ...            ...                ...   \n",
       "360  0.246347    -0.495494       0.970536      -0.633227           0.955089   \n",
       "361  0.246347    -0.228352       0.976822      -0.624002           1.005568   \n",
       "362 -0.361198    -0.014638       0.876247      -0.605552           0.854131   \n",
       "363  0.094461     0.626504       1.008252      -0.587103           0.955089   \n",
       "364 -1.728173     0.092219       0.920249      -0.577878           0.955089   \n",
       "\n",
       "     YiErChunZhongZuFen  \n",
       "0             -1.006255  \n",
       "1             -1.006255  \n",
       "2             -1.006255  \n",
       "3             -1.006255  \n",
       "4             -1.006255  \n",
       "..                  ...  \n",
       "360            0.822540  \n",
       "361            0.822540  \n",
       "362            0.822540  \n",
       "363            0.822540  \n",
       "364            0.822540  \n",
       "\n",
       "[365 rows x 12 columns]"
      ]
     },
     "execution_count": 33,
     "metadata": {},
     "output_type": "execute_result"
    }
   ],
   "source": [
    "c_standardized = c_standardized.drop(['YiChangYiErChun'], axis=1)\n",
    "c_standardized"
   ]
  },
  {
   "cell_type": "code",
   "execution_count": 34,
   "id": "ed06fdbfb13e51dd",
   "metadata": {
    "ExecuteTime": {
     "end_time": "2024-08-16T07:48:02.075946Z",
     "start_time": "2024-08-16T07:48:02.064508Z"
    }
   },
   "outputs": [
    {
     "data": {
      "text/plain": [
       "((365, 365),\n",
       " array([48.24925645, 33.54667828, 16.95466371, 16.56769073, 12.41264861,\n",
       "         8.39325961,  6.68966403,  6.41983049,  4.87595721,  4.51796102,\n",
       "         2.9331626 ,  1.18481084]),\n",
       " (12, 12))"
      ]
     },
     "execution_count": 34,
     "metadata": {},
     "output_type": "execute_result"
    }
   ],
   "source": [
    "u1, s1, vt1 = np.linalg.svd(c_standardized)\n",
    "u1.shape, s1, vt1.shape"
   ]
  },
  {
   "cell_type": "code",
   "execution_count": 35,
   "id": "8d6d059ea0ce74c8",
   "metadata": {
    "ExecuteTime": {
     "end_time": "2024-08-16T07:49:25.416111Z",
     "start_time": "2024-08-16T07:49:25.412411Z"
    }
   },
   "outputs": [
    {
     "name": "stdout",
     "output_type": "stream",
     "text": [
      "iris_total_variance: 12.000 should approximately equal the sum of the feature variances: 12.000\n"
     ]
    }
   ],
   "source": [
    "c_total_variance = np.sum(s1**2) / len(c_standardized)\n",
    "print(\"iris_total_variance: {:.3f} should approximately equal the sum of the feature variances: {:.3f}\"\n",
    "      .format(c_total_variance, np.sum(np.var(c_standardized, axis=0))))\n"
   ]
  },
  {
   "cell_type": "code",
   "execution_count": 36,
   "id": "eefa223b05fa7d96",
   "metadata": {
    "ExecuteTime": {
     "end_time": "2024-08-16T07:51:24.419217Z",
     "start_time": "2024-08-16T07:51:24.248356Z"
    }
   },
   "outputs": [
    {
     "data": {
      "image/png": "[encoded data removed]",
      "text/plain": [
       "<Figure size 640x480 with 1 Axes>"
      ]
     },
     "metadata": {},
     "output_type": "display_data"
    }
   ],
   "source": [
    "# your plot here\n",
    "plt.xticks([1, 2, 3, 4, 5, 6, 7, 8, 9, 10, 11, 12])\n",
    "plt.xlabel(\"Principal Component\")\n",
    "plt.ylabel(\"Variance (Component Scores)\")\n",
    "plt.title(\"Scree Plot of Coal Principle Components\")\n",
    "plt.plot([1, 2, 3, 4, 5, 6, 7, 8, 9, 10, 11, 12], np.square(s1) / len(c_standardized));\n"
   ]
  },
  {
   "cell_type": "code",
   "execution_count": 37,
   "id": "5060697750965ad2",
   "metadata": {
    "ExecuteTime": {
     "end_time": "2024-08-16T08:02:25.849588Z",
     "start_time": "2024-08-16T08:02:25.844565Z"
    }
   },
   "outputs": [
    {
     "data": {
      "text/plain": [
       "(0.8540710029747697, 0.9167395820053994)"
      ]
     },
     "execution_count": 37,
     "metadata": {},
     "output_type": "execute_result"
    }
   ],
   "source": [
    "c_3d_variance = np.sum(s1[:3]**2) / len(c_standardized) / c_total_variance\n",
    "\n",
    "\n",
    "\n",
    "c_4d_variance = np.sum(s1[:4]**2) / len(c_standardized) / c_total_variance\n",
    "c_3d_variance, c_4d_variance\n"
   ]
  },
  {
   "cell_type": "markdown",
   "id": "99c875c8f9b933bf",
   "metadata": {},
   "source": [
    "由此可见前4个特征占方差了91%左右的比重\n",
    "\n",
    "降维到4维"
   ]
  },
  {
   "cell_type": "code",
   "execution_count": 38,
   "id": "99edb2cdaf0e24f2",
   "metadata": {
    "ExecuteTime": {
     "end_time": "2024-08-16T07:57:46.962528Z",
     "start_time": "2024-08-16T07:57:46.955330Z"
    }
   },
   "outputs": [
    {
     "data": {
      "text/html": [
       "<div>\n",
       "<style scoped>\n",
       "    .dataframe tbody tr th:only-of-type {\n",
       "        vertical-align: middle;\n",
       "    }\n",
       "\n",
       "    .dataframe tbody tr th {\n",
       "        vertical-align: top;\n",
       "    }\n",
       "\n",
       "    .dataframe thead th {\n",
       "        text-align: right;\n",
       "    }\n",
       "</style>\n",
       "<table border=\"1\" class=\"dataframe\">\n",
       "  <thead>\n",
       "    <tr style=\"text-align: right;\">\n",
       "      <th></th>\n",
       "      <th>0</th>\n",
       "      <th>1</th>\n",
       "      <th>2</th>\n",
       "      <th>3</th>\n",
       "    </tr>\n",
       "  </thead>\n",
       "  <tbody>\n",
       "    <tr>\n",
       "      <th>0</th>\n",
       "      <td>-4.219596</td>\n",
       "      <td>6.555128</td>\n",
       "      <td>-1.115751</td>\n",
       "      <td>0.887255</td>\n",
       "    </tr>\n",
       "    <tr>\n",
       "      <th>1</th>\n",
       "      <td>-4.219596</td>\n",
       "      <td>6.555128</td>\n",
       "      <td>-1.115751</td>\n",
       "      <td>0.887255</td>\n",
       "    </tr>\n",
       "    <tr>\n",
       "      <th>2</th>\n",
       "      <td>-4.060535</td>\n",
       "      <td>6.276841</td>\n",
       "      <td>-0.941865</td>\n",
       "      <td>0.297959</td>\n",
       "    </tr>\n",
       "    <tr>\n",
       "      <th>3</th>\n",
       "      <td>-4.113555</td>\n",
       "      <td>6.369603</td>\n",
       "      <td>-0.999827</td>\n",
       "      <td>0.494391</td>\n",
       "    </tr>\n",
       "    <tr>\n",
       "      <th>4</th>\n",
       "      <td>-4.007515</td>\n",
       "      <td>6.184079</td>\n",
       "      <td>-0.883903</td>\n",
       "      <td>0.101528</td>\n",
       "    </tr>\n",
       "    <tr>\n",
       "      <th>...</th>\n",
       "      <td>...</td>\n",
       "      <td>...</td>\n",
       "      <td>...</td>\n",
       "      <td>...</td>\n",
       "    </tr>\n",
       "    <tr>\n",
       "      <th>360</th>\n",
       "      <td>2.527929</td>\n",
       "      <td>0.518452</td>\n",
       "      <td>0.519425</td>\n",
       "      <td>0.706511</td>\n",
       "    </tr>\n",
       "    <tr>\n",
       "      <th>361</th>\n",
       "      <td>2.472953</td>\n",
       "      <td>0.596674</td>\n",
       "      <td>0.567352</td>\n",
       "      <td>0.387806</td>\n",
       "    </tr>\n",
       "    <tr>\n",
       "      <th>362</th>\n",
       "      <td>2.204427</td>\n",
       "      <td>0.665518</td>\n",
       "      <td>0.011368</td>\n",
       "      <td>0.757959</td>\n",
       "    </tr>\n",
       "    <tr>\n",
       "      <th>363</th>\n",
       "      <td>2.746452</td>\n",
       "      <td>0.315782</td>\n",
       "      <td>-0.209918</td>\n",
       "      <td>0.221476</td>\n",
       "    </tr>\n",
       "    <tr>\n",
       "      <th>364</th>\n",
       "      <td>2.248485</td>\n",
       "      <td>0.990714</td>\n",
       "      <td>-0.254281</td>\n",
       "      <td>1.670471</td>\n",
       "    </tr>\n",
       "  </tbody>\n",
       "</table>\n",
       "<p>365 rows × 4 columns</p>\n",
       "</div>"
      ],
      "text/plain": [
       "            0         1         2         3\n",
       "0   -4.219596  6.555128 -1.115751  0.887255\n",
       "1   -4.219596  6.555128 -1.115751  0.887255\n",
       "2   -4.060535  6.276841 -0.941865  0.297959\n",
       "3   -4.113555  6.369603 -0.999827  0.494391\n",
       "4   -4.007515  6.184079 -0.883903  0.101528\n",
       "..        ...       ...       ...       ...\n",
       "360  2.527929  0.518452  0.519425  0.706511\n",
       "361  2.472953  0.596674  0.567352  0.387806\n",
       "362  2.204427  0.665518  0.011368  0.757959\n",
       "363  2.746452  0.315782 -0.209918  0.221476\n",
       "364  2.248485  0.990714 -0.254281  1.670471\n",
       "\n",
       "[365 rows x 4 columns]"
      ]
     },
     "execution_count": 38,
     "metadata": {},
     "output_type": "execute_result"
    }
   ],
   "source": [
    "c_4d = c_standardized @ vt1[0:4, :].T\n",
    "c_4d"
   ]
  },
  {
   "cell_type": "markdown",
   "id": "5c6ae19ed667fbf7",
   "metadata": {},
   "source": [
    "三维可视化看一看"
   ]
  },
  {
   "cell_type": "code",
   "execution_count": 39,
   "id": "968606e6cc0c9703",
   "metadata": {
    "ExecuteTime": {
     "end_time": "2024-08-16T08:02:47.048076Z",
     "start_time": "2024-08-16T08:02:47.041629Z"
    }
   },
   "outputs": [
    {
     "data": {
      "text/html": [
       "<div>\n",
       "<style scoped>\n",
       "    .dataframe tbody tr th:only-of-type {\n",
       "        vertical-align: middle;\n",
       "    }\n",
       "\n",
       "    .dataframe tbody tr th {\n",
       "        vertical-align: top;\n",
       "    }\n",
       "\n",
       "    .dataframe thead th {\n",
       "        text-align: right;\n",
       "    }\n",
       "</style>\n",
       "<table border=\"1\" class=\"dataframe\">\n",
       "  <thead>\n",
       "    <tr style=\"text-align: right;\">\n",
       "      <th></th>\n",
       "      <th>0</th>\n",
       "      <th>1</th>\n",
       "      <th>2</th>\n",
       "    </tr>\n",
       "  </thead>\n",
       "  <tbody>\n",
       "    <tr>\n",
       "      <th>0</th>\n",
       "      <td>-4.219596</td>\n",
       "      <td>6.555128</td>\n",
       "      <td>-1.115751</td>\n",
       "    </tr>\n",
       "    <tr>\n",
       "      <th>1</th>\n",
       "      <td>-4.219596</td>\n",
       "      <td>6.555128</td>\n",
       "      <td>-1.115751</td>\n",
       "    </tr>\n",
       "    <tr>\n",
       "      <th>2</th>\n",
       "      <td>-4.060535</td>\n",
       "      <td>6.276841</td>\n",
       "      <td>-0.941865</td>\n",
       "    </tr>\n",
       "    <tr>\n",
       "      <th>3</th>\n",
       "      <td>-4.113555</td>\n",
       "      <td>6.369603</td>\n",
       "      <td>-0.999827</td>\n",
       "    </tr>\n",
       "    <tr>\n",
       "      <th>4</th>\n",
       "      <td>-4.007515</td>\n",
       "      <td>6.184079</td>\n",
       "      <td>-0.883903</td>\n",
       "    </tr>\n",
       "    <tr>\n",
       "      <th>...</th>\n",
       "      <td>...</td>\n",
       "      <td>...</td>\n",
       "      <td>...</td>\n",
       "    </tr>\n",
       "    <tr>\n",
       "      <th>360</th>\n",
       "      <td>2.527929</td>\n",
       "      <td>0.518452</td>\n",
       "      <td>0.519425</td>\n",
       "    </tr>\n",
       "    <tr>\n",
       "      <th>361</th>\n",
       "      <td>2.472953</td>\n",
       "      <td>0.596674</td>\n",
       "      <td>0.567352</td>\n",
       "    </tr>\n",
       "    <tr>\n",
       "      <th>362</th>\n",
       "      <td>2.204427</td>\n",
       "      <td>0.665518</td>\n",
       "      <td>0.011368</td>\n",
       "    </tr>\n",
       "    <tr>\n",
       "      <th>363</th>\n",
       "      <td>2.746452</td>\n",
       "      <td>0.315782</td>\n",
       "      <td>-0.209918</td>\n",
       "    </tr>\n",
       "    <tr>\n",
       "      <th>364</th>\n",
       "      <td>2.248485</td>\n",
       "      <td>0.990714</td>\n",
       "      <td>-0.254281</td>\n",
       "    </tr>\n",
       "  </tbody>\n",
       "</table>\n",
       "<p>365 rows × 3 columns</p>\n",
       "</div>"
      ],
      "text/plain": [
       "            0         1         2\n",
       "0   -4.219596  6.555128 -1.115751\n",
       "1   -4.219596  6.555128 -1.115751\n",
       "2   -4.060535  6.276841 -0.941865\n",
       "3   -4.113555  6.369603 -0.999827\n",
       "4   -4.007515  6.184079 -0.883903\n",
       "..        ...       ...       ...\n",
       "360  2.527929  0.518452  0.519425\n",
       "361  2.472953  0.596674  0.567352\n",
       "362  2.204427  0.665518  0.011368\n",
       "363  2.746452  0.315782 -0.209918\n",
       "364  2.248485  0.990714 -0.254281\n",
       "\n",
       "[365 rows x 3 columns]"
      ]
     },
     "execution_count": 39,
     "metadata": {},
     "output_type": "execute_result"
    }
   ],
   "source": [
    "c_3d = c_standardized @ vt1[0:3, :].T\n",
    "c_3d"
   ]
  },
  {
   "cell_type": "code",
   "execution_count": 40,
   "id": "a39a112931b8b158",
   "metadata": {
    "ExecuteTime": {
     "end_time": "2024-08-16T08:11:17.212353Z",
     "start_time": "2024-08-16T08:11:17.179202Z"
    }
   },
   "outputs": [
    {
     "data": {
      "application/vnd.plotly.v1+json": {
       "config": {
        "plotlyServerURL": "https://plot.ly"
       },
       "data": [
        {
         "hovertemplate": "pc1=%{marker.color}<br>pc2=%{y}<br>pc3=%{z}<extra></extra>",
         "legendgroup": "",
         "marker": {
          "color": [
           -4.219595827623674,
           -4.219595827623674,
           -4.0605349665847585,
           -4.11355525359773,
           -4.007514679571787,
           -4.034024823078273,
           -3.981004536065301,
           -3.715903101000442,
           -3.715903101000442,
           -3.821943675026386,
           -3.7689233880134143,
           -3.704520898069713,
           -3.609862526974499,
           -3.2035603716865864,
           -3.5390093945857153,
           -4.219595827623674,
           -3.919930522879923,
           -3.553845383392541,
           -3.4729826584828745,
           -3.6111376119014205,
           -3.7303224618466193,
           -3.7552039592961526,
           -3.1316787428123725,
           -2.812523337767477,
           -2.363516419861499,
           -4.219595827623674,
           -2.3382309346180463,
           -2.339967062583912,
           -4.219595827623674,
           -4.219595827623674,
           -2.3830829598086436,
           -2.679883921003043,
           -2.9291272536598787,
           -4.219595827623674,
           -2.772641240139348,
           -2.787666466105653,
           -2.6497821928893464,
           -2.6886892150813684,
           -2.6521432848595192,
           -2.6881720656046983,
           -2.732499968353382,
           -2.7071211206827197,
           -2.627140801735245,
           -2.623005254203588,
           -2.4860346997470746,
           -2.503830637201906,
           -2.4747057927711436,
           -2.4772705439892544,
           -2.5489499545668814,
           -2.4825500599962265,
           -2.3575193611029643,
           -2.3810801783438826,
           -2.2945803390230286,
           -2.3428522500272466,
           -2.3515840184010526,
           -2.635022639680041,
           -3.2369801535483997,
           -3.2367937386722527,
           -3.2387217057366215,
           -3.1742966883972987,
           -3.273781297056226,
           -3.2127404149522585,
           -3.2278556089157684,
           -3.1954926851607226,
           -3.2869118919688067,
           -2.852811432238321,
           -2.8138318850607003,
           -2.815776697378213,
           -2.6967472592495167,
           -3.539734806291233,
           -2.821302407862734,
           -2.833415059373555,
           -2.6697618894872956,
           -2.5787377836827385,
           -2.5153781097212025,
           -2.54218021700943,
           -2.4560920955846863,
           -2.5381389646122443,
           -2.527994184811406,
           -2.5394262285415934,
           -2.5930935961042243,
           -2.580653226734249,
           -2.5746886116500303,
           -2.578609918134216,
           -2.5696336715025865,
           -2.52293777336724,
           -2.548766509465919,
           -2.4614008134644636,
           -2.9472452796707707,
           -3.0781701626985654,
           -3.161380311106435,
           -2.59343676724786,
           -2.5236702701693474,
           -2.5393175223255877,
           -3.008658924690422,
           -2.104043504920942,
           -1.9928264011014214,
           -2.0011727502178545,
           -2.0073174014200994,
           -2.034339196202833,
           -2.040766705133999,
           -1.9590122857733567,
           -1.9681949237833658,
           -1.9679949852456353,
           -1.9852529748330585,
           -1.863322186356955,
           -1.8541241239442996,
           -1.8979817923709366,
           -1.8182614901282688,
           -1.89557167594596,
           -1.8718100893370406,
           -1.8919620636409893,
           -1.8959656228521031,
           -1.8779722832827308,
           -1.852864391927251,
           -1.8756526804110922,
           -1.8205797292117343,
           -1.8863503170029425,
           -1.922435664178834,
           -1.950310435673498,
           -1.9134560732237067,
           -1.9938271260000298,
           -2.0231871179796483,
           -2.1153619625070794,
           -2.048957766083364,
           -1.9849167359881534,
           -2.014871717762205,
           -3.0327762092230723,
           -2.2764370290346987,
           -2.0674894006276143,
           -2.0394561601524592,
           -2.013384150890569,
           -2.039963461022672,
           -2.092593115112732,
           -2.0951633840576656,
           -2.1303373624502298,
           -2.0779077884106334,
           -2.0872155910066867,
           -2.083389203765836,
           -2.015885586572812,
           -2.0352160856881514,
           -2.0083381154691304,
           -2.063941935866794,
           -2.0800332320487236,
           -2.2469183506005477,
           -2.14805506619618,
           -2.24598574851865,
           -2.1088836277455867,
           -2.101801768139791,
           -2.0597661896158637,
           -2.0001833516877303,
           -2.0367529932351727,
           -2.3694099807115045,
           -2.06232053388382,
           -2.1235917730433616,
           -2.3512072466792375,
           -2.6696098928414047,
           -2.3643338247683285,
           -2.298948731706933,
           -2.477159869828599,
           -3.127250420542878,
           -2.1284106018853173,
           -2.4144096417271723,
           -2.04639441006141,
           -1.9607914971730207,
           -1.9414043258903446,
           -2.1713881954016117,
           -2.62276906493213,
           -2.5866647666716833,
           -1.147215421868482,
           0.13234261591070134,
           0.3274338176732579,
           0.9592469833166353,
           2.7420698550553784,
           2.097300662038268,
           2.148270615501507,
           2.110491826501721,
           2.4914506179293756,
           2.1741886234633685,
           2.017187611106795,
           1.9833000365156153,
           2.004751272576628,
           2.0198284924819006,
           1.813115824182984,
           1.388690804613095,
           1.9048929427910428,
           2.077548927665733,
           1.6779473308324069,
           1.8911646233543165,
           1.2987976318507313,
           1.3563214166756157,
           1.0801441842739663,
           0.7278124920329703,
           1.1649387299672067,
           1.5436901608248417,
           0.8475021819215242,
           0.831877590143229,
           1.3623760996489813,
           1.413257450143711,
           0.7808185625408977,
           0.5473591230874172,
           1.9795093952094842,
           1.9802567191538099,
           2.2106667964860662,
           2.067693747610329,
           2.4439556320552853,
           2.60822732656305,
           2.509803534483537,
           2.6345449326006234,
           2.648086601632385,
           2.705149676314096,
           2.831650809216094,
           2.7128065985381498,
           2.7195885185636177,
           2.505729718067155,
           2.4829890553971388,
           2.3097887077750276,
           2.2037531242226707,
           2.667860517554341,
           2.506022052150317,
           2.3723083359986563,
           2.458410494853744,
           2.416096442342919,
           2.3170898888511458,
           2.178974233367627,
           2.391982913572325,
           2.453792560251015,
           2.3568334977078527,
           2.3776524297068105,
           2.3395462840408547,
           2.395538541698245,
           2.2586752883170216,
           2.09806095842691,
           2.2905159156193373,
           2.154374219199711,
           2.2884802065935146,
           2.115459011196861,
           2.263932277555678,
           2.314757958712641,
           2.262530156841421,
           2.3906933554487226,
           2.2526743293133564,
           2.430701781561773,
           2.5210656056476246,
           2.3243446299520207,
           2.5026695848787464,
           2.8460076245268477,
           2.872452969245396,
           2.818122305461146,
           2.770097006797608,
           2.695111265785035,
           2.752531400697775,
           2.7921366056608448,
           2.7712221619022843,
           2.8315563134889445,
           2.7265260364652146,
           2.6838808326403734,
           2.7101917904439023,
           2.7414546328569576,
           2.746014131458042,
           2.6742512907272262,
           2.444698976375001,
           2.6353451214967416,
           2.757037353191568,
           2.7466899714904343,
           2.746251886445971,
           2.4013824919184716,
           2.290183139493216,
           2.2657340367439947,
           2.4809748377208005,
           2.412520729217027,
           2.384825577460824,
           2.277915967690882,
           2.517015361005941,
           2.5742998254145117,
           2.4919633578715645,
           2.5349463994854653,
           2.647930665881645,
           2.879285283520199,
           3.00728019168736,
           2.8722545339558208,
           2.4983689336415194,
           2.923011050424273,
           2.8862312498576346,
           2.9459243151873777,
           2.826164640190227,
           2.7065294134961175,
           2.6785685866854614,
           2.3755162845423428,
           1.6742584259343074,
           1.6698676325331006,
           2.05254532593754,
           2.1635054643736233,
           2.021503965741083,
           1.4014031765662893,
           1.4612424269536977,
           1.4099585765475118,
           1.4468229362232405,
           1.5081949219778503,
           1.4145430690332375,
           1.448239817822801,
           1.4964490751590174,
           1.3771019655626306,
           1.9241256255796986,
           1.9283074787505243,
           2.142871266882191,
           2.1984793460618532,
           2.128999017492861,
           2.5995228333666747,
           2.705833610364087,
           2.8971327100575617,
           3.0028822254521645,
           2.828298011540891,
           2.5717157420591166,
           2.547182946631317,
           2.8422383193599465,
           3.0056879170799515,
           3.02089136863919,
           2.758707196571073,
           2.7855016400844885,
           2.7272616554510924,
           2.8402502807728283,
           2.4769478041487467,
           2.516066630991497,
           2.534752724408628,
           2.79677189042731,
           2.559765311057934,
           2.67711947755262,
           2.6697702842659563,
           2.558062895269582,
           2.6619775505345533,
           2.5607187234396642,
           2.6783412095756938,
           0.8891275999855975,
           -0.7578229693266274,
           0.028588751392027427,
           3.456593597444522,
           2.798986375347067,
           2.7768090137245647,
           2.7092204284197647,
           2.9235032779117707,
           2.9609075056499328,
           2.7479526914594037,
           2.912135294566728,
           2.6579469085759366,
           2.6470373950883497,
           2.8622915239119275,
           2.545267179384277,
           2.3786510947605795,
           2.347082281944548,
           2.217984098213568,
           2.404924765015384,
           2.3392136632569196,
           2.412153690867476,
           2.5297699667386655,
           2.47389362827039,
           2.380392888714069,
           2.283420994294902,
           2.485176965258991,
           2.473048659735283,
           2.5279288384850873,
           2.4729527180734268,
           2.204427013967212,
           2.746451731851922,
           2.248484598543645
          ],
          "coloraxis": "coloraxis",
          "symbol": "circle"
         },
         "mode": "markers",
         "name": "",
         "scene": "scene",
         "showlegend": false,
         "type": "scatter3d",
         "x": [
          -4.219595827623674,
          -4.219595827623674,
          -4.0605349665847585,
          -4.11355525359773,
          -4.007514679571787,
          -4.034024823078273,
          -3.981004536065301,
          -3.715903101000442,
          -3.715903101000442,
          -3.821943675026386,
          -3.7689233880134143,
          -3.704520898069713,
          -3.609862526974499,
          -3.2035603716865864,
          -3.5390093945857153,
          -4.219595827623674,
          -3.919930522879923,
          -3.553845383392541,
          -3.4729826584828745,
          -3.6111376119014205,
          -3.7303224618466193,
          -3.7552039592961526,
          -3.1316787428123725,
          -2.812523337767477,
          -2.363516419861499,
          -4.219595827623674,
          -2.3382309346180463,
          -2.339967062583912,
          -4.219595827623674,
          -4.219595827623674,
          -2.3830829598086436,
          -2.679883921003043,
          -2.9291272536598787,
          -4.219595827623674,
          -2.772641240139348,
          -2.787666466105653,
          -2.6497821928893464,
          -2.6886892150813684,
          -2.6521432848595192,
          -2.6881720656046983,
          -2.732499968353382,
          -2.7071211206827197,
          -2.627140801735245,
          -2.623005254203588,
          -2.4860346997470746,
          -2.503830637201906,
          -2.4747057927711436,
          -2.4772705439892544,
          -2.5489499545668814,
          -2.4825500599962265,
          -2.3575193611029643,
          -2.3810801783438826,
          -2.2945803390230286,
          -2.3428522500272466,
          -2.3515840184010526,
          -2.635022639680041,
          -3.2369801535483997,
          -3.2367937386722527,
          -3.2387217057366215,
          -3.1742966883972987,
          -3.273781297056226,
          -3.2127404149522585,
          -3.2278556089157684,
          -3.1954926851607226,
          -3.2869118919688067,
          -2.852811432238321,
          -2.8138318850607003,
          -2.815776697378213,
          -2.6967472592495167,
          -3.539734806291233,
          -2.821302407862734,
          -2.833415059373555,
          -2.6697618894872956,
          -2.5787377836827385,
          -2.5153781097212025,
          -2.54218021700943,
          -2.4560920955846863,
          -2.5381389646122443,
          -2.527994184811406,
          -2.5394262285415934,
          -2.5930935961042243,
          -2.580653226734249,
          -2.5746886116500303,
          -2.578609918134216,
          -2.5696336715025865,
          -2.52293777336724,
          -2.548766509465919,
          -2.4614008134644636,
          -2.9472452796707707,
          -3.0781701626985654,
          -3.161380311106435,
          -2.59343676724786,
          -2.5236702701693474,
          -2.5393175223255877,
          -3.008658924690422,
          -2.104043504920942,
          -1.9928264011014214,
          -2.0011727502178545,
          -2.0073174014200994,
          -2.034339196202833,
          -2.040766705133999,
          -1.9590122857733567,
          -1.9681949237833658,
          -1.9679949852456353,
          -1.9852529748330585,
          -1.863322186356955,
          -1.8541241239442996,
          -1.8979817923709366,
          -1.8182614901282688,
          -1.89557167594596,
          -1.8718100893370406,
          -1.8919620636409893,
          -1.8959656228521031,
          -1.8779722832827308,
          -1.852864391927251,
          -1.8756526804110922,
          -1.8205797292117343,
          -1.8863503170029425,
          -1.922435664178834,
          -1.950310435673498,
          -1.9134560732237067,
          -1.9938271260000298,
          -2.0231871179796483,
          -2.1153619625070794,
          -2.048957766083364,
          -1.9849167359881534,
          -2.014871717762205,
          -3.0327762092230723,
          -2.2764370290346987,
          -2.0674894006276143,
          -2.0394561601524592,
          -2.013384150890569,
          -2.039963461022672,
          -2.092593115112732,
          -2.0951633840576656,
          -2.1303373624502298,
          -2.0779077884106334,
          -2.0872155910066867,
          -2.083389203765836,
          -2.015885586572812,
          -2.0352160856881514,
          -2.0083381154691304,
          -2.063941935866794,
          -2.0800332320487236,
          -2.2469183506005477,
          -2.14805506619618,
          -2.24598574851865,
          -2.1088836277455867,
          -2.101801768139791,
          -2.0597661896158637,
          -2.0001833516877303,
          -2.0367529932351727,
          -2.3694099807115045,
          -2.06232053388382,
          -2.1235917730433616,
          -2.3512072466792375,
          -2.6696098928414047,
          -2.3643338247683285,
          -2.298948731706933,
          -2.477159869828599,
          -3.127250420542878,
          -2.1284106018853173,
          -2.4144096417271723,
          -2.04639441006141,
          -1.9607914971730207,
          -1.9414043258903446,
          -2.1713881954016117,
          -2.62276906493213,
          -2.5866647666716833,
          -1.147215421868482,
          0.13234261591070134,
          0.3274338176732579,
          0.9592469833166353,
          2.7420698550553784,
          2.097300662038268,
          2.148270615501507,
          2.110491826501721,
          2.4914506179293756,
          2.1741886234633685,
          2.017187611106795,
          1.9833000365156153,
          2.004751272576628,
          2.0198284924819006,
          1.813115824182984,
          1.388690804613095,
          1.9048929427910428,
          2.077548927665733,
          1.6779473308324069,
          1.8911646233543165,
          1.2987976318507313,
          1.3563214166756157,
          1.0801441842739663,
          0.7278124920329703,
          1.1649387299672067,
          1.5436901608248417,
          0.8475021819215242,
          0.831877590143229,
          1.3623760996489813,
          1.413257450143711,
          0.7808185625408977,
          0.5473591230874172,
          1.9795093952094842,
          1.9802567191538099,
          2.2106667964860662,
          2.067693747610329,
          2.4439556320552853,
          2.60822732656305,
          2.509803534483537,
          2.6345449326006234,
          2.648086601632385,
          2.705149676314096,
          2.831650809216094,
          2.7128065985381498,
          2.7195885185636177,
          2.505729718067155,
          2.4829890553971388,
          2.3097887077750276,
          2.2037531242226707,
          2.667860517554341,
          2.506022052150317,
          2.3723083359986563,
          2.458410494853744,
          2.416096442342919,
          2.3170898888511458,
          2.178974233367627,
          2.391982913572325,
          2.453792560251015,
          2.3568334977078527,
          2.3776524297068105,
          2.3395462840408547,
          2.395538541698245,
          2.2586752883170216,
          2.09806095842691,
          2.2905159156193373,
          2.154374219199711,
          2.2884802065935146,
          2.115459011196861,
          2.263932277555678,
          2.314757958712641,
          2.262530156841421,
          2.3906933554487226,
          2.2526743293133564,
          2.430701781561773,
          2.5210656056476246,
          2.3243446299520207,
          2.5026695848787464,
          2.8460076245268477,
          2.872452969245396,
          2.818122305461146,
          2.770097006797608,
          2.695111265785035,
          2.752531400697775,
          2.7921366056608448,
          2.7712221619022843,
          2.8315563134889445,
          2.7265260364652146,
          2.6838808326403734,
          2.7101917904439023,
          2.7414546328569576,
          2.746014131458042,
          2.6742512907272262,
          2.444698976375001,
          2.6353451214967416,
          2.757037353191568,
          2.7466899714904343,
          2.746251886445971,
          2.4013824919184716,
          2.290183139493216,
          2.2657340367439947,
          2.4809748377208005,
          2.412520729217027,
          2.384825577460824,
          2.277915967690882,
          2.517015361005941,
          2.5742998254145117,
          2.4919633578715645,
          2.5349463994854653,
          2.647930665881645,
          2.879285283520199,
          3.00728019168736,
          2.8722545339558208,
          2.4983689336415194,
          2.923011050424273,
          2.8862312498576346,
          2.9459243151873777,
          2.826164640190227,
          2.7065294134961175,
          2.6785685866854614,
          2.3755162845423428,
          1.6742584259343074,
          1.6698676325331006,
          2.05254532593754,
          2.1635054643736233,
          2.021503965741083,
          1.4014031765662893,
          1.4612424269536977,
          1.4099585765475118,
          1.4468229362232405,
          1.5081949219778503,
          1.4145430690332375,
          1.448239817822801,
          1.4964490751590174,
          1.3771019655626306,
          1.9241256255796986,
          1.9283074787505243,
          2.142871266882191,
          2.1984793460618532,
          2.128999017492861,
          2.5995228333666747,
          2.705833610364087,
          2.8971327100575617,
          3.0028822254521645,
          2.828298011540891,
          2.5717157420591166,
          2.547182946631317,
          2.8422383193599465,
          3.0056879170799515,
          3.02089136863919,
          2.758707196571073,
          2.7855016400844885,
          2.7272616554510924,
          2.8402502807728283,
          2.4769478041487467,
          2.516066630991497,
          2.534752724408628,
          2.79677189042731,
          2.559765311057934,
          2.67711947755262,
          2.6697702842659563,
          2.558062895269582,
          2.6619775505345533,
          2.5607187234396642,
          2.6783412095756938,
          0.8891275999855975,
          -0.7578229693266274,
          0.028588751392027427,
          3.456593597444522,
          2.798986375347067,
          2.7768090137245647,
          2.7092204284197647,
          2.9235032779117707,
          2.9609075056499328,
          2.7479526914594037,
          2.912135294566728,
          2.6579469085759366,
          2.6470373950883497,
          2.8622915239119275,
          2.545267179384277,
          2.3786510947605795,
          2.347082281944548,
          2.217984098213568,
          2.404924765015384,
          2.3392136632569196,
          2.412153690867476,
          2.5297699667386655,
          2.47389362827039,
          2.380392888714069,
          2.283420994294902,
          2.485176965258991,
          2.473048659735283,
          2.5279288384850873,
          2.4729527180734268,
          2.204427013967212,
          2.746451731851922,
          2.248484598543645
         ],
         "y": [
          6.555127806614385,
          6.555127806614385,
          6.276841088125487,
          6.369603327621785,
          6.184078848629187,
          6.230459968377336,
          6.1376977288810375,
          5.67388653139954,
          5.67388653139954,
          5.859411010392138,
          5.76664877089584,
          5.665102724900991,
          5.4883620524069405,
          5.086929701443546,
          4.682608730229377,
          6.555127806614385,
          2.23897518943795,
          -0.1506856606097608,
          -0.8681670581298245,
          -1.0192631179304992,
          -0.9911238409214583,
          -1.2022245512453331,
          -0.9947597088882975,
          -0.7403036074045573,
          -1.2382737505979122,
          6.555127806614385,
          -1.001161879317136,
          -1.0798110270335264,
          6.555127806614385,
          6.555127806614385,
          -1.0017147953680334,
          -0.9035485122525586,
          -1.2543092271857255,
          6.555127806614385,
          -1.0750537481517959,
          -1.3703150657213057,
          -1.2713962718260472,
          -1.1611103669408869,
          -1.2028731240539676,
          -1.1361447199743133,
          -1.0283294982577882,
          -1.0824508885579553,
          -1.2320326362023806,
          -1.2525740572539728,
          -1.2719510715914826,
          -1.3877310947736687,
          -1.3900885908573029,
          -1.2987883990240299,
          -1.2533869275720595,
          -1.415812046856805,
          -1.2708024411106462,
          -1.1732558954267587,
          -1.1391952121118414,
          -1.1466902538050985,
          -1.1177283648322967,
          -0.7337801040837484,
          0.09825830153075647,
          0.09591571813683346,
          0.08521719468813281,
          0.046617991689116164,
          0.012519955407515866,
          0.13257488354466632,
          0.1733876394283571,
          0.1010042414612519,
          0.05699014797697692,
          -0.672528691614835,
          -0.8977163446317098,
          -0.8911567098002026,
          -0.8704998802513202,
          2.0686550570887356,
          -1.070446650233614,
          -1.107122886447737,
          -1.366962343951092,
          -1.4338270852274704,
          -1.2970435393840285,
          -1.2675786737517944,
          -1.402215600007851,
          -1.3655653291790635,
          -1.4154659546827868,
          -1.4101143815828434,
          -1.4013235237111599,
          -1.496035230697774,
          -1.4702112099506643,
          -1.4291962901361308,
          -1.448385384176553,
          -1.4241681053794015,
          -1.3596083266792587,
          -1.0753370739527695,
          1.109100278361755,
          -0.42036152199585664,
          -0.921718113573739,
          -1.4681688347937096,
          -1.515826051531672,
          -1.4442184368764799,
          -0.2803789404394494,
          -1.7237737538426632,
          -1.820238524344628,
          -1.9563522004803655,
          -1.9845945069877826,
          -1.8168759628983189,
          -1.9368185396957647,
          -1.962851167339795,
          -1.983238257383002,
          -2.0450142815345056,
          -2.0113435867521248,
          -2.0671720748557716,
          -1.8949852957443898,
          -1.9256095921378122,
          -2.0321724850388665,
          -2.0345829111086786,
          -1.974329835831665,
          -2.063718013088071,
          -2.046216139104392,
          -2.1125186778193914,
          -2.155958085180722,
          -2.0959084298451875,
          -2.1017725852766183,
          -2.0727244286201465,
          -2.008621217990896,
          -1.9986330488898492,
          -2.0097200187871613,
          -2.02446875964952,
          -2.092636380427461,
          -1.9915502629271529,
          -2.1197835795253206,
          -2.1361232151320086,
          -2.113721117249541,
          1.4559375614048837,
          -1.182598761509301,
          -2.108375185887625,
          -2.067648360776322,
          -2.1086207446421175,
          -2.1689631266426517,
          -2.1129151734455958,
          -2.0342028157484817,
          -2.0358531171146264,
          -2.0934854753485594,
          -2.0829484861928247,
          -2.0300902625545176,
          -2.137420604305937,
          -2.1611000441834256,
          -2.190380506132528,
          -2.186126767694174,
          -2.0944826585664127,
          -1.9196381611451627,
          -1.7709128105866054,
          -1.5569038438653775,
          -1.828125310609484,
          -1.8850881753296067,
          -1.9112495773271212,
          -1.9708025822139867,
          -1.9982777891928896,
          -0.1259518663566462,
          -1.4644063979978188,
          -1.8322902761979003,
          -0.13445745697482117,
          0.7218939575478116,
          0.7702322923056989,
          0.7284664108283596,
          2.325714020042585,
          2.0330106528863356,
          0.06423366782193736,
          0.8676912490582231,
          -1.0337499836681832,
          -1.0377797545161322,
          -1.0625023727924425,
          -0.5590032552438554,
          1.9510070468507545,
          2.107990753610787,
          1.4469458363668652,
          -0.12192815695070597,
          0.3969634841735966,
          0.5163450215463606,
          1.3463896403287763,
          0.8492790986084632,
          0.9197933012479548,
          0.7506787328551618,
          0.7275400011667332,
          0.670718802405564,
          0.7396026337960392,
          0.8787776784181817,
          0.8919920418454625,
          0.8691867140131134,
          0.7383907088548585,
          0.5969844515152639,
          0.7579235612284166,
          0.7274511566623956,
          0.5900396478536328,
          0.588082166350575,
          0.2921123220477798,
          0.12041974443811188,
          0.429318705282971,
          0.8908863481776839,
          0.7384556197069935,
          0.6921612039572445,
          0.9616933792724858,
          0.8714124032161944,
          0.6023637265855334,
          0.24718270599141387,
          -0.03434230384976463,
          -0.2518470980165015,
          0.8161238625118404,
          0.4905648549527867,
          0.5850804553597159,
          0.6588505633297301,
          0.552484793425937,
          0.20926062089986325,
          0.17861671045296287,
          0.21891972175248994,
          0.31959137427287154,
          0.34611694817264915,
          0.2715200055810024,
          0.29843467901022486,
          0.21094571217348945,
          0.272510848785898,
          0.10707526651386264,
          0.22641037670631758,
          0.2855628462786515,
          0.047098475988797954,
          0.09618218950836654,
          0.11630633490227492,
          0.09026588932595801,
          0.12254640839644697,
          0.15747406698798389,
          0.3238860551946492,
          0.12117916779676334,
          0.0627215053995982,
          0.06926204710291768,
          0.03168618290325896,
          0.05056571641454883,
          -0.014666466575306725,
          0.1273530474482889,
          0.16772508519388338,
          0.15626506745000662,
          0.2907976572515934,
          0.17403885241220227,
          0.4426576442552326,
          0.36735473060656865,
          0.14922950478204036,
          0.4337187910180816,
          0.2600513995342163,
          0.19923351207544518,
          0.15887131195058757,
          0.10339931608050136,
          0.009116018899818685,
          0.05348207975135378,
          0.02813760661843126,
          0.0942982525668991,
          0.1515662976647165,
          0.07284624104920832,
          0.10319122109606359,
          0.04757631013867036,
          0.05525260338732182,
          0.08408651322904825,
          0.07380629300846277,
          0.1705940058374673,
          0.1696757548749808,
          0.07062089590915312,
          0.15533406652375778,
          0.13642898321762423,
          0.10834248900322611,
          0.07837529343095563,
          0.16671160931364395,
          0.07386670742085544,
          0.1415518252741846,
          0.22856318026349465,
          0.22304860158650025,
          0.2617425740441122,
          0.28153406314887197,
          0.022367438047625487,
          0.05294825239942266,
          0.2532286549907976,
          0.36402491041970236,
          0.06494540115121,
          0.16409509086531754,
          0.10486957719239558,
          0.10453730427446248,
          -0.03341082291965547,
          0.10617403919059443,
          0.23543101845622805,
          0.16462402675728566,
          -0.26798160831572204,
          -0.0077690813231685195,
          0.16308179254053679,
          0.12453865674938744,
          0.17783949868071164,
          0.12944410738670495,
          0.18075517979026579,
          -0.12096099140349692,
          -0.8651760043023927,
          -0.6700183369022751,
          -0.40056574820998603,
          -0.32662850779654273,
          -0.19078614411706576,
          0.37605995373253964,
          0.3935073043942946,
          0.35416804731066914,
          0.33451982014708415,
          0.2913358836303868,
          0.3255026702262669,
          0.443105189497449,
          0.40597582670656657,
          0.502066601516437,
          -0.08804610193820073,
          -0.19581189506229765,
          -0.23472559489085584,
          -0.1076866643184113,
          -0.08509522802520135,
          0.16321219003829743,
          0.12530890098557015,
          0.22066978228229395,
          0.20945625232012405,
          0.1644165494168731,
          0.10961685677928583,
          0.12750101793252488,
          0.2852591569459124,
          0.17874209250499612,
          0.0810677504897694,
          0.10186203243250172,
          0.027803239583000815,
          0.04032855663153965,
          0.09683529284621804,
          0.45264515296694335,
          0.5393962614385008,
          0.061084857033088025,
          0.09124142032178635,
          0.07140399442463626,
          0.053047309284809926,
          0.12751501831541528,
          0.13171643195290703,
          0.13343361678243268,
          0.10350802525939097,
          0.03984593858474632,
          0.5050555261459997,
          0.365205745269397,
          -0.06565953072291456,
          0.285236766689177,
          0.09604158023924235,
          0.13785040456157266,
          0.005573066899630331,
          0.0158290050695256,
          0.00655762414070403,
          0.18235941832513397,
          0.11126634979558131,
          0.17179794280729863,
          0.11409847695428695,
          0.16073318021534094,
          0.3754710118580781,
          0.5606786467219854,
          0.6078347834239717,
          0.5739183010552933,
          0.5028183358525417,
          0.5303464816538161,
          0.4154577209848938,
          0.360208416622655,
          0.5294043694550958,
          0.5275144785658336,
          0.5325435394052598,
          0.5098508166813374,
          0.43306117316111525,
          0.5184523175181271,
          0.5966736918888377,
          0.665518356476183,
          0.3157820905827215,
          0.9907141963304548
         ],
         "z": [
          -1.1157510682029748,
          -1.1157510682029748,
          -0.9418648485034228,
          -0.9998269217366068,
          -0.883902775270239,
          -0.9128838118868309,
          -0.8549217386536471,
          -0.5651113724877274,
          -0.5651113724877274,
          -0.6810355189540952,
          -0.6230734457209114,
          -0.5983075751350139,
          -0.4491872260213597,
          0.2291514190617064,
          1.0936117788459876,
          -1.1157510682029748,
          1.469802096736555,
          2.4715361357840657,
          2.6189278007288137,
          2.60108718145555,
          2.610674788630031,
          2.641023401880073,
          2.116193577703878,
          1.5776708665599402,
          0.6669201842505681,
          -1.1157510682029748,
          0.984773329129805,
          0.9672896843771738,
          -1.1157510682029748,
          -1.1157510682029748,
          0.9770158709959719,
          0.7750198994489347,
          1.0834593335712537,
          -1.1157510682029748,
          0.8866789300123031,
          1.0127589521839908,
          0.7494925704363717,
          0.4865600736079387,
          0.5419648939195479,
          0.5268241561197896,
          0.47882950020715903,
          0.5038668640602877,
          0.5570042329581278,
          0.6478218960156982,
          0.6825127006837012,
          0.6904017540019395,
          0.7124945617567807,
          0.725440210517276,
          0.6719615306207217,
          0.7038325777850271,
          0.8296236976611987,
          0.7816743454282683,
          0.8291242873438872,
          0.8076862357664011,
          0.7625327399685412,
          0.47896169156635965,
          -0.059530781177474096,
          -0.08829363127212828,
          -0.08109813621615988,
          -0.03966111666200084,
          -0.1262635506184763,
          -0.11243442966263381,
          -0.11647356887929303,
          -0.06398573638905433,
          -0.07566946432785523,
          0.3745010975837839,
          0.37361532885148374,
          0.2979741715936802,
          0.7015630080128666,
          0.9956170571642403,
          0.8333573482093156,
          0.8011654663175122,
          0.4914010660366292,
          0.31024583783364346,
          0.35174538635920993,
          0.36892304084396266,
          0.41874477301526886,
          0.32098970994294485,
          0.3471131487036828,
          0.32211614519232257,
          0.2993160630226773,
          0.3175053657436533,
          0.3474527517604302,
          0.3949276549526013,
          0.4063709175109107,
          0.4492736237937745,
          0.45804200089258135,
          0.7293578690670253,
          1.418793581593021,
          1.289982306612284,
          1.377798214235465,
          0.44123431893836357,
          0.43532353931703566,
          0.44267058726115954,
          0.6208835716530082,
          -0.7078160683681621,
          -1.0823067016520058,
          -1.076638196746407,
          -1.1204288964149713,
          -1.1600536970938533,
          -1.0524387404904576,
          -0.9383790876905016,
          -0.962388617370464,
          -0.9201524500468432,
          -0.9560088721858794,
          -1.0478453331226512,
          -1.1752806820587343,
          -1.1359049955066083,
          -0.9947392057201762,
          -1.0322747094030658,
          -0.9846208840972895,
          -1.0301929723576018,
          -0.9664023649071692,
          -0.965185127129738,
          -1.0192680731728567,
          -1.1220522779725306,
          -1.070970241225535,
          -1.1223187263661878,
          -1.1201985123751814,
          -1.092093057434573,
          -1.1752769454773844,
          -1.129749506102771,
          -1.0331806860760306,
          -0.6225140733130423,
          -0.8009382692190014,
          -0.972401286056683,
          -0.9028867643211128,
          -0.381195758045982,
          -0.685243007189303,
          -0.9094304916471191,
          -0.8813121643463014,
          -0.9887699733127365,
          -0.9265007803438902,
          -0.9277107908620496,
          -0.9798881073342455,
          -0.8397117389334007,
          -0.8673305108815832,
          -0.9935595217409504,
          -0.8936915932395642,
          -1.0203230316550795,
          -1.0336228287086329,
          -0.9866908903530073,
          -0.9078290066645578,
          -0.9611321318303923,
          -0.8295245276913128,
          -0.9832522115145079,
          -0.8581039807006678,
          -1.0004683514857584,
          -0.9084432661589588,
          -0.9236337340986953,
          -0.9742668113067848,
          -0.8922542767998327,
          -0.18796046745196368,
          -0.8807961232765763,
          -0.8638933373942189,
          -0.3819301907397787,
          -0.0632976037037864,
          0.11077478555968658,
          0.16867584134368,
          -0.03001826083939263,
          -0.4133001967072136,
          -0.43188605663949664,
          -0.5740385136016622,
          -0.8745937165474472,
          -1.0816343543979658,
          -1.0978264751675135,
          -0.28076759805716933,
          1.075991324231153,
          0.6268555244521242,
          -0.16388914178972117,
          -0.8489967396235218,
          -0.4181600155378622,
          -0.3263223066109123,
          1.4610647853981853,
          0.5021874169671395,
          0.509380849966784,
          0.06707029506689824,
          -0.03575898086393155,
          0.0777085882946752,
          -0.052584978888091265,
          0.4019261580190657,
          0.3228687386908171,
          0.1723114195502691,
          0.21147087106299764,
          0.08504870203264203,
          0.1566816358752685,
          0.3145703582813174,
          0.2445525045844671,
          0.9615853655365261,
          1.469628515146868,
          1.2533188655030856,
          2.1313306679960786,
          3.076479365027141,
          2.619347134356699,
          2.1366268363788445,
          2.677862288199547,
          2.3701690159539104,
          1.7149253133456246,
          1.2420697342148548,
          1.7695704145886484,
          2.640670081599197,
          1.0922176652208138,
          1.216488098422316,
          1.311587506828359,
          1.3680012747825323,
          1.2183582493655014,
          0.45210610511188776,
          0.2848202044444289,
          0.08489342475488527,
          -0.18291491839572468,
          -0.2863079848325222,
          -0.5213485760459007,
          -0.12388975745737037,
          -0.1691803377719511,
          -0.2528665616650674,
          -0.5930190573471124,
          -0.1961044311743755,
          -0.21374386610477417,
          -0.4173802491742082,
          -0.4501490294244556,
          -0.3054731688830638,
          -0.4103540565977812,
          -0.44845615361671126,
          -0.3673518054263353,
          0.04062287075919515,
          -0.5557353522516401,
          -0.6367152551670209,
          -0.699541905171745,
          -0.5297074071893999,
          -0.4496719083779496,
          -0.44005474834810204,
          -0.48567777385919536,
          -0.6064914164497544,
          -0.6676987958020472,
          -0.3615950916822569,
          -0.4770369063459951,
          -0.40674990334801286,
          -0.28805392631150817,
          -0.4183501730616444,
          -0.36721384711519706,
          -0.6069638418492835,
          -0.9536968181580824,
          -0.8195103658223721,
          -0.888745300794498,
          -0.8643922722155724,
          -0.6394628999221743,
          -0.5015563508628292,
          -0.4417689308673494,
          -0.3748227939774419,
          -0.484529091558438,
          -0.49973619603692226,
          -0.4630610977557292,
          -0.45463711204681995,
          -0.34726201802435297,
          -0.42575080980402985,
          -0.4188033554481306,
          -0.09927698129698805,
          -0.41251872364721065,
          -0.4781066657031608,
          -0.52304429454168,
          -0.47353762429083107,
          -0.5341556940481912,
          -0.5045911816244623,
          -0.5303739304699846,
          -0.36661889780084284,
          0.05792471812326127,
          0.2715636625683634,
          0.7287225365155282,
          0.7783006351182499,
          -0.2920805758534017,
          -0.07143849897480184,
          0.3905257287606442,
          0.26514552910549594,
          -0.3086139617945069,
          -0.4579879671549018,
          -0.7120647399945306,
          -0.600056266501443,
          -0.3382052167378129,
          -0.3363856129671768,
          -0.22639841806505462,
          -0.4111634869444249,
          -0.46939947447106994,
          -0.31550703024104393,
          -0.381260055754013,
          -0.40380817456601104,
          -0.33297861853787253,
          -0.07411952328478996,
          -0.31033402411892264,
          0.32999760660595406,
          1.0306927533948085,
          1.0814449959780843,
          0.6480750614282645,
          0.600835936790855,
          0.846221019440092,
          1.74106824294965,
          1.7345466772157787,
          1.774243272954797,
          1.7223286316548603,
          1.7845166226699438,
          1.828894581579417,
          1.9421798115788564,
          1.7044163300885922,
          1.6009850602956621,
          0.5937368936247649,
          0.4369432535628732,
          0.3707885314049406,
          0.2694499899395095,
          0.5883440400076323,
          -0.05850006950899205,
          -0.3486602357310286,
          -0.21403682243824138,
          -0.5669761266057971,
          -0.6595504938683869,
          -0.4672098448049859,
          -0.313968473374656,
          -0.13063184141017917,
          -0.2566332395841143,
          -0.2061049553600625,
          -0.4008657773729571,
          -0.6472735184416526,
          -0.7692753227360035,
          -0.6667954955335905,
          -0.5969458145642419,
          -0.856608696495586,
          -0.568472838442395,
          -0.5994565630082478,
          -0.36374233914156034,
          -0.5477789598926046,
          -0.6117193636370871,
          -0.6974969816627598,
          -0.5567216929770009,
          -0.7112147095328153,
          -0.6444636130471848,
          0.8006852454727449,
          1.6474616506532835,
          0.08307313905632237,
          -0.2341416619914908,
          -0.6832351069990834,
          -0.61884592969498,
          -0.7147808207411874,
          -0.707430333889217,
          -0.6662628317903426,
          -0.5030952807101724,
          -0.4785544311454249,
          -0.3062922387739463,
          -0.764549582404417,
          -0.49925144920756886,
          0.08534804544548814,
          0.36423654239856257,
          0.08359251949087676,
          0.3243345152320145,
          0.8053759537100114,
          0.8645505021720699,
          0.446428452646075,
          0.4943065393017961,
          0.6505745764400619,
          0.49056752283093674,
          0.5232245519499737,
          0.5618155162875234,
          0.5050044608018347,
          0.5194253941479144,
          0.5673518951520059,
          0.011367968058725935,
          -0.2099181059507058,
          -0.25428072827427317
         ]
        }
       ],
       "layout": {
        "coloraxis": {
         "colorbar": {
          "title": {
           "text": "pc1"
          }
         },
         "colorscale": [
          [
           0,
           "#0d0887"
          ],
          [
           0.1111111111111111,
           "#46039f"
          ],
          [
           0.2222222222222222,
           "#7201a8"
          ],
          [
           0.3333333333333333,
           "#9c179e"
          ],
          [
           0.4444444444444444,
           "#bd3786"
          ],
          [
           0.5555555555555556,
           "#d8576b"
          ],
          [
           0.6666666666666666,
           "#ed7953"
          ],
          [
           0.7777777777777778,
           "#fb9f3a"
          ],
          [
           0.8888888888888888,
           "#fdca26"
          ],
          [
           1,
           "#f0f921"
          ]
         ]
        },
        "legend": {
         "tracegroupgap": 0
        },
        "margin": {
         "t": 60
        },
        "scene": {
         "domain": {
          "x": [
           0,
           1
          ],
          "y": [
           0,
           1
          ]
         },
         "xaxis": {
          "title": {
           "text": "pc1"
          }
         },
         "yaxis": {
          "title": {
           "text": "pc2"
          }
         },
         "zaxis": {
          "title": {
           "text": "pc3"
          }
         }
        },
        "template": {
         "data": {
          "bar": [
           {
            "error_x": {
             "color": "#2a3f5f"
            },
            "error_y": {
             "color": "#2a3f5f"
            },
            "marker": {
             "line": {
              "color": "#E5ECF6",
              "width": 0.5
             },
             "pattern": {
              "fillmode": "overlay",
              "size": 10,
              "solidity": 0.2
             }
            },
            "type": "bar"
           }
          ],
          "barpolar": [
           {
            "marker": {
             "line": {
              "color": "#E5ECF6",
              "width": 0.5
             },
             "pattern": {
              "fillmode": "overlay",
              "size": 10,
              "solidity": 0.2
             }
            },
            "type": "barpolar"
           }
          ],
          "carpet": [
           {
            "aaxis": {
             "endlinecolor": "#2a3f5f",
             "gridcolor": "white",
             "linecolor": "white",
             "minorgridcolor": "white",
             "startlinecolor": "#2a3f5f"
            },
            "baxis": {
             "endlinecolor": "#2a3f5f",
             "gridcolor": "white",
             "linecolor": "white",
             "minorgridcolor": "white",
             "startlinecolor": "#2a3f5f"
            },
            "type": "carpet"
           }
          ],
          "choropleth": [
           {
            "colorbar": {
             "outlinewidth": 0,
             "ticks": ""
            },
            "type": "choropleth"
           }
          ],
          "contour": [
           {
            "colorbar": {
             "outlinewidth": 0,
             "ticks": ""
            },
            "colorscale": [
             [
              0,
              "#0d0887"
             ],
             [
              0.1111111111111111,
              "#46039f"
             ],
             [
              0.2222222222222222,
              "#7201a8"
             ],
             [
              0.3333333333333333,
              "#9c179e"
             ],
             [
              0.4444444444444444,
              "#bd3786"
             ],
             [
              0.5555555555555556,
              "#d8576b"
             ],
             [
              0.6666666666666666,
              "#ed7953"
             ],
             [
              0.7777777777777778,
              "#fb9f3a"
             ],
             [
              0.8888888888888888,
              "#fdca26"
             ],
             [
              1,
              "#f0f921"
             ]
            ],
            "type": "contour"
           }
          ],
          "contourcarpet": [
           {
            "colorbar": {
             "outlinewidth": 0,
             "ticks": ""
            },
            "type": "contourcarpet"
           }
          ],
          "heatmap": [
           {
            "colorbar": {
             "outlinewidth": 0,
             "ticks": ""
            },
            "colorscale": [
             [
              0,
              "#0d0887"
             ],
             [
              0.1111111111111111,
              "#46039f"
             ],
             [
              0.2222222222222222,
              "#7201a8"
             ],
             [
              0.3333333333333333,
              "#9c179e"
             ],
             [
              0.4444444444444444,
              "#bd3786"
             ],
             [
              0.5555555555555556,
              "#d8576b"
             ],
             [
              0.6666666666666666,
              "#ed7953"
             ],
             [
              0.7777777777777778,
              "#fb9f3a"
             ],
             [
              0.8888888888888888,
              "#fdca26"
             ],
             [
              1,
              "#f0f921"
             ]
            ],
            "type": "heatmap"
           }
          ],
          "heatmapgl": [
           {
            "colorbar": {
             "outlinewidth": 0,
             "ticks": ""
            },
            "colorscale": [
             [
              0,
              "#0d0887"
             ],
             [
              0.1111111111111111,
              "#46039f"
             ],
             [
              0.2222222222222222,
              "#7201a8"
             ],
             [
              0.3333333333333333,
              "#9c179e"
             ],
             [
              0.4444444444444444,
              "#bd3786"
             ],
             [
              0.5555555555555556,
              "#d8576b"
             ],
             [
              0.6666666666666666,
              "#ed7953"
             ],
             [
              0.7777777777777778,
              "#fb9f3a"
             ],
             [
              0.8888888888888888,
              "#fdca26"
             ],
             [
              1,
              "#f0f921"
             ]
            ],
            "type": "heatmapgl"
           }
          ],
          "histogram": [
           {
            "marker": {
             "pattern": {
              "fillmode": "overlay",
              "size": 10,
              "solidity": 0.2
             }
            },
            "type": "histogram"
           }
          ],
          "histogram2d": [
           {
            "colorbar": {
             "outlinewidth": 0,
             "ticks": ""
            },
            "colorscale": [
             [
              0,
              "#0d0887"
             ],
             [
              0.1111111111111111,
              "#46039f"
             ],
             [
              0.2222222222222222,
              "#7201a8"
             ],
             [
              0.3333333333333333,
              "#9c179e"
             ],
             [
              0.4444444444444444,
              "#bd3786"
             ],
             [
              0.5555555555555556,
              "#d8576b"
             ],
             [
              0.6666666666666666,
              "#ed7953"
             ],
             [
              0.7777777777777778,
              "#fb9f3a"
             ],
             [
              0.8888888888888888,
              "#fdca26"
             ],
             [
              1,
              "#f0f921"
             ]
            ],
            "type": "histogram2d"
           }
          ],
          "histogram2dcontour": [
           {
            "colorbar": {
             "outlinewidth": 0,
             "ticks": ""
            },
            "colorscale": [
             [
              0,
              "#0d0887"
             ],
             [
              0.1111111111111111,
              "#46039f"
             ],
             [
              0.2222222222222222,
              "#7201a8"
             ],
             [
              0.3333333333333333,
              "#9c179e"
             ],
             [
              0.4444444444444444,
              "#bd3786"
             ],
             [
              0.5555555555555556,
              "#d8576b"
             ],
             [
              0.6666666666666666,
              "#ed7953"
             ],
             [
              0.7777777777777778,
              "#fb9f3a"
             ],
             [
              0.8888888888888888,
              "#fdca26"
             ],
             [
              1,
              "#f0f921"
             ]
            ],
            "type": "histogram2dcontour"
           }
          ],
          "mesh3d": [
           {
            "colorbar": {
             "outlinewidth": 0,
             "ticks": ""
            },
            "type": "mesh3d"
           }
          ],
          "parcoords": [
           {
            "line": {
             "colorbar": {
              "outlinewidth": 0,
              "ticks": ""
             }
            },
            "type": "parcoords"
           }
          ],
          "pie": [
           {
            "automargin": true,
            "type": "pie"
           }
          ],
          "scatter": [
           {
            "fillpattern": {
             "fillmode": "overlay",
             "size": 10,
             "solidity": 0.2
            },
            "type": "scatter"
           }
          ],
          "scatter3d": [
           {
            "line": {
             "colorbar": {
              "outlinewidth": 0,
              "ticks": ""
             }
            },
            "marker": {
             "colorbar": {
              "outlinewidth": 0,
              "ticks": ""
             }
            },
            "type": "scatter3d"
           }
          ],
          "scattercarpet": [
           {
            "marker": {
             "colorbar": {
              "outlinewidth": 0,
              "ticks": ""
             }
            },
            "type": "scattercarpet"
           }
          ],
          "scattergeo": [
           {
            "marker": {
             "colorbar": {
              "outlinewidth": 0,
              "ticks": ""
             }
            },
            "type": "scattergeo"
           }
          ],
          "scattergl": [
           {
            "marker": {
             "colorbar": {
              "outlinewidth": 0,
              "ticks": ""
             }
            },
            "type": "scattergl"
           }
          ],
          "scattermapbox": [
           {
            "marker": {
             "colorbar": {
              "outlinewidth": 0,
              "ticks": ""
             }
            },
            "type": "scattermapbox"
           }
          ],
          "scatterpolar": [
           {
            "marker": {
             "colorbar": {
              "outlinewidth": 0,
              "ticks": ""
             }
            },
            "type": "scatterpolar"
           }
          ],
          "scatterpolargl": [
           {
            "marker": {
             "colorbar": {
              "outlinewidth": 0,
              "ticks": ""
             }
            },
            "type": "scatterpolargl"
           }
          ],
          "scatterternary": [
           {
            "marker": {
             "colorbar": {
              "outlinewidth": 0,
              "ticks": ""
             }
            },
            "type": "scatterternary"
           }
          ],
          "surface": [
           {
            "colorbar": {
             "outlinewidth": 0,
             "ticks": ""
            },
            "colorscale": [
             [
              0,
              "#0d0887"
             ],
             [
              0.1111111111111111,
              "#46039f"
             ],
             [
              0.2222222222222222,
              "#7201a8"
             ],
             [
              0.3333333333333333,
              "#9c179e"
             ],
             [
              0.4444444444444444,
              "#bd3786"
             ],
             [
              0.5555555555555556,
              "#d8576b"
             ],
             [
              0.6666666666666666,
              "#ed7953"
             ],
             [
              0.7777777777777778,
              "#fb9f3a"
             ],
             [
              0.8888888888888888,
              "#fdca26"
             ],
             [
              1,
              "#f0f921"
             ]
            ],
            "type": "surface"
           }
          ],
          "table": [
           {
            "cells": {
             "fill": {
              "color": "#EBF0F8"
             },
             "line": {
              "color": "white"
             }
            },
            "header": {
             "fill": {
              "color": "#C8D4E3"
             },
             "line": {
              "color": "white"
             }
            },
            "type": "table"
           }
          ]
         },
         "layout": {
          "annotationdefaults": {
           "arrowcolor": "#2a3f5f",
           "arrowhead": 0,
           "arrowwidth": 1
          },
          "autotypenumbers": "strict",
          "coloraxis": {
           "colorbar": {
            "outlinewidth": 0,
            "ticks": ""
           }
          },
          "colorscale": {
           "diverging": [
            [
             0,
             "#8e0152"
            ],
            [
             0.1,
             "#c51b7d"
            ],
            [
             0.2,
             "#de77ae"
            ],
            [
             0.3,
             "#f1b6da"
            ],
            [
             0.4,
             "#fde0ef"
            ],
            [
             0.5,
             "#f7f7f7"
            ],
            [
             0.6,
             "#e6f5d0"
            ],
            [
             0.7,
             "#b8e186"
            ],
            [
             0.8,
             "#7fbc41"
            ],
            [
             0.9,
             "#4d9221"
            ],
            [
             1,
             "#276419"
            ]
           ],
           "sequential": [
            [
             0,
             "#0d0887"
            ],
            [
             0.1111111111111111,
             "#46039f"
            ],
            [
             0.2222222222222222,
             "#7201a8"
            ],
            [
             0.3333333333333333,
             "#9c179e"
            ],
            [
             0.4444444444444444,
             "#bd3786"
            ],
            [
             0.5555555555555556,
             "#d8576b"
            ],
            [
             0.6666666666666666,
             "#ed7953"
            ],
            [
             0.7777777777777778,
             "#fb9f3a"
            ],
            [
             0.8888888888888888,
             "#fdca26"
            ],
            [
             1,
             "#f0f921"
            ]
           ],
           "sequentialminus": [
            [
             0,
             "#0d0887"
            ],
            [
             0.1111111111111111,
             "#46039f"
            ],
            [
             0.2222222222222222,
             "#7201a8"
            ],
            [
             0.3333333333333333,
             "#9c179e"
            ],
            [
             0.4444444444444444,
             "#bd3786"
            ],
            [
             0.5555555555555556,
             "#d8576b"
            ],
            [
             0.6666666666666666,
             "#ed7953"
            ],
            [
             0.7777777777777778,
             "#fb9f3a"
            ],
            [
             0.8888888888888888,
             "#fdca26"
            ],
            [
             1,
             "#f0f921"
            ]
           ]
          },
          "colorway": [
           "#636efa",
           "#EF553B",
           "#00cc96",
           "#ab63fa",
           "#FFA15A",
           "#19d3f3",
           "#FF6692",
           "#B6E880",
           "#FF97FF",
           "#FECB52"
          ],
          "font": {
           "color": "#2a3f5f"
          },
          "geo": {
           "bgcolor": "white",
           "lakecolor": "white",
           "landcolor": "#E5ECF6",
           "showlakes": true,
           "showland": true,
           "subunitcolor": "white"
          },
          "hoverlabel": {
           "align": "left"
          },
          "hovermode": "closest",
          "mapbox": {
           "style": "light"
          },
          "paper_bgcolor": "white",
          "plot_bgcolor": "#E5ECF6",
          "polar": {
           "angularaxis": {
            "gridcolor": "white",
            "linecolor": "white",
            "ticks": ""
           },
           "bgcolor": "#E5ECF6",
           "radialaxis": {
            "gridcolor": "white",
            "linecolor": "white",
            "ticks": ""
           }
          },
          "scene": {
           "xaxis": {
            "backgroundcolor": "#E5ECF6",
            "gridcolor": "white",
            "gridwidth": 2,
            "linecolor": "white",
            "showbackground": true,
            "ticks": "",
            "zerolinecolor": "white"
           },
           "yaxis": {
            "backgroundcolor": "#E5ECF6",
            "gridcolor": "white",
            "gridwidth": 2,
            "linecolor": "white",
            "showbackground": true,
            "ticks": "",
            "zerolinecolor": "white"
           },
           "zaxis": {
            "backgroundcolor": "#E5ECF6",
            "gridcolor": "white",
            "gridwidth": 2,
            "linecolor": "white",
            "showbackground": true,
            "ticks": "",
            "zerolinecolor": "white"
           }
          },
          "shapedefaults": {
           "line": {
            "color": "#2a3f5f"
           }
          },
          "ternary": {
           "aaxis": {
            "gridcolor": "white",
            "linecolor": "white",
            "ticks": ""
           },
           "baxis": {
            "gridcolor": "white",
            "linecolor": "white",
            "ticks": ""
           },
           "bgcolor": "#E5ECF6",
           "caxis": {
            "gridcolor": "white",
            "linecolor": "white",
            "ticks": ""
           }
          },
          "title": {
           "x": 0.05
          },
          "xaxis": {
           "automargin": true,
           "gridcolor": "white",
           "linecolor": "white",
           "ticks": "",
           "title": {
            "standoff": 15
           },
           "zerolinecolor": "white",
           "zerolinewidth": 2
          },
          "yaxis": {
           "automargin": true,
           "gridcolor": "white",
           "linecolor": "white",
           "ticks": "",
           "title": {
            "standoff": 15
           },
           "zerolinecolor": "white",
           "zerolinewidth": 2
          }
         }
        }
       }
      }
     },
     "metadata": {},
     "output_type": "display_data"
    }
   ],
   "source": [
    "c_3d = c_3d.rename(columns = {0: \"pc1\", 1: \"pc2\", 2: \"pc3\"})\n",
    "# fig = px.scatter_3d(colorize_surfboard_data(c_3d, x='pc1', y='pc2', z='pc3', range_x = [-10, 10], range_y = [-10, 10], range_z = [-10, 10], color = 'color', color_continuous_scale = 'RdBu');\n",
    "fig = px.scatter_3d(c_3d,x='pc1', y='pc2', z='pc3', color='pc1')\n",
    "fig.show();\n"
   ]
  },
  {
   "cell_type": "markdown",
   "id": "9e7bf274",
   "metadata": {},
   "source": [
    "## Whitening with PCA\n",
    "考虑PCA白化数据集，通过标准化数据的协方差矩阵来使数据具有单位方差和零均值，从而使得数据在各个维度上具有相同的分布。白化可以提高模型的训练效率和性能"
   ]
  },
  {
   "cell_type": "code",
   "execution_count": 41,
   "id": "52345e15",
   "metadata": {},
   "outputs": [],
   "source": [
    "from sklearn.decomposition import PCA\n",
    "from sklearn.preprocessing import StandardScaler"
   ]
  },
  {
   "cell_type": "code",
   "execution_count": 42,
   "id": "f21a45b7",
   "metadata": {},
   "outputs": [],
   "source": [
    "# c_standardized 已经是标准化的数据了\n",
    "pca = PCA(n_components=4)\n",
    "c_pca = pca.fit_transform(c_standardized)\n",
    "scaler_whiten = StandardScaler()\n",
    "c_whitened = scaler_whiten.fit_transform(c_pca)"
   ]
  },
  {
   "cell_type": "code",
   "execution_count": 43,
   "id": "75969875",
   "metadata": {},
   "outputs": [
    {
     "name": "stdout",
     "output_type": "stream",
     "text": [
      "PCA components variance: [6.37805684 3.08323184 0.78756335 0.75202295]\n",
      "Whitened data mean: [-1.52085346e-18  1.01288840e-16 -6.96550884e-17  7.42176488e-17]\n",
      "Whitened data variance: [1. 1. 1. 1.]\n"
     ]
    }
   ],
   "source": [
    "print(\"PCA components variance:\", np.var(c_pca, axis=0))\n",
    "print(\"Whitened data mean:\", np.mean(c_whitened, axis=0))\n",
    "print(\"Whitened data variance:\", np.var(c_whitened, axis=0))"
   ]
  },
  {
   "cell_type": "markdown",
   "id": "27145967",
   "metadata": {},
   "source": [
    "now the `c_whitened` can be used for further analysis."
   ]
  }
 ],
 "metadata": {
  "kernelspec": {
   "display_name": "Python 3",
   "language": "python",
   "name": "python3"
  },
  "language_info": {
   "codemirror_mode": {
    "name": "ipython",
    "version": 3
   },
   "file_extension": ".py",
   "mimetype": "text/x-python",
   "name": "python",
   "nbconvert_exporter": "python",
   "pygments_lexer": "ipython3",
   "version": "3.12.4"
  }
 },
 "nbformat": 4,
 "nbformat_minor": 5
}
